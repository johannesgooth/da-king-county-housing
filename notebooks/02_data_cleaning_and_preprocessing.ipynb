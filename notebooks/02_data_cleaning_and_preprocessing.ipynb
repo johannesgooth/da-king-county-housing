{
 "cells": [
  {
   "cell_type": "markdown",
   "metadata": {},
   "source": [
    "# 02_data_cleaning_and_preprocessing.ipynb\n",
    "\n",
    "**Project:** king_county_housing_data  \n",
    "**Author:** Johannes Gooth  \n",
    "**Date:** April 12, 2024\n",
    "\n",
    "---\n",
    "\n",
    "## Introduction\n",
    "\n",
    "In this notebook, we will focus on the data cleaning and preprocessing phase of our analysis. After successfully gathering and compiling the necessary dataset in the previous steps, the primary objective here is to prepare the data for analysis by addressing any issues related to data quality and transforming the data into a suitable format for modeling.\n",
    "\n",
    "The dataset we are working with is the King County Housing Data, which contains detailed information about home sales in King County, USA. This dataset was acquired from a PostgreSQL database hosted on an AWS cloud server managed by NeueFische GmbH. We have already retrieved the data and stored it in a CSV file. Now, we will proceed to clean and preprocess this data to ensure it is ready for further analysis.\n",
    "\n",
    "### Key Steps:\n",
    "1. **Data Loading:** We will begin by loading the dataset from the CSV file into a pandas DataFrame for further processing.\n",
    "\n",
    "2. **Data Inspection:** This step will involve identifying the shape of the DataFrame,  dattypes, missing values\n",
    "   \n",
    "2. **Data Cleaning:** This step will involve identifying and handling missing values, correcting data types, addressing duplicates, and resolving any inconsistencies in the data.\n",
    "   \n",
    "3. **Data Transformation and Engineering:** We will perform necessary transformations and create new features if needed.\n",
    "\n",
    "5. **Final Dataset Preparation:** After cleaning and transforming the data, we will finalize the dataset, making it ready for the analysis phases in the subsequent notebooks.\n",
    "\n",
    "### Expected Outcome:\n",
    "A clean and well-structured dataset, ready for analysis in the next phases of the project."
   ]
  },
  {
   "cell_type": "markdown",
   "metadata": {},
   "source": [
    "## Setting-Up the Working Enviroment"
   ]
  },
  {
   "cell_type": "code",
   "execution_count": 54,
   "metadata": {},
   "outputs": [
    {
     "name": "stdout",
     "output_type": "stream",
     "text": [
      "The autoreload extension is already loaded. To reload it, use:\n",
      "  %reload_ext autoreload\n"
     ]
    }
   ],
   "source": [
    "import warnings\n",
    "warnings.filterwarnings(\"ignore\")\n",
    "\n",
    "# Avoid restarting Kernel \n",
    "%load_ext autoreload\n",
    "%autoreload 2\n",
    "\n",
    "import sys\n",
    "# setting path\n",
    "sys.path.append('../')\n",
    "\n",
    "import pandas as pd\n",
    "import matplotlib.pyplot as plt\n",
    "import seaborn as sns\n",
    "import missingno as msno\n",
    "from geopy.distance import geodesic\n",
    "\n",
    "import json\n",
    "\n",
    "from src.validation_functions import *\n",
    "from src.processing_functions import *"
   ]
  },
  {
   "cell_type": "markdown",
   "metadata": {},
   "source": [
    "## Loading the Data"
   ]
  },
  {
   "cell_type": "code",
   "execution_count": 55,
   "metadata": {},
   "outputs": [],
   "source": [
    "# Filepath of the CSV file\n",
    "file_path_csv = '../data/king_county_housing_data.csv'\n",
    "\n",
    "# Load the CSV data into a DataFrame\n",
    "df = pd.read_csv(file_path_csv)"
   ]
  },
  {
   "cell_type": "markdown",
   "metadata": {},
   "source": [
    "## Data Inspection\n",
    "\n",
    "In this section, we will conduct a thorough inspection of the dataset to ensure its quality and suitability for analysis. This involves examining the structure of the data, identifying any anomalies such as missing or inconsistent values, and gaining an initial understanding of the key variables. The insights gained during this inspection will guide the subsequent data cleaning and preprocessing steps, ensuring that our analysis is based on reliable and accurate data."
   ]
  },
  {
   "cell_type": "code",
   "execution_count": 56,
   "metadata": {},
   "outputs": [
    {
     "data": {
      "text/html": [
       "<div>\n",
       "<style scoped>\n",
       "    .dataframe tbody tr th:only-of-type {\n",
       "        vertical-align: middle;\n",
       "    }\n",
       "\n",
       "    .dataframe tbody tr th {\n",
       "        vertical-align: top;\n",
       "    }\n",
       "\n",
       "    .dataframe thead th {\n",
       "        text-align: right;\n",
       "    }\n",
       "</style>\n",
       "<table border=\"1\" class=\"dataframe\">\n",
       "  <thead>\n",
       "    <tr style=\"text-align: right;\">\n",
       "      <th></th>\n",
       "      <th>id</th>\n",
       "      <th>bedrooms</th>\n",
       "      <th>bathrooms</th>\n",
       "      <th>sqft_living</th>\n",
       "      <th>sqft_lot</th>\n",
       "      <th>floors</th>\n",
       "      <th>waterfront</th>\n",
       "      <th>view</th>\n",
       "      <th>condition</th>\n",
       "      <th>grade</th>\n",
       "      <th>...</th>\n",
       "      <th>sqft_basement</th>\n",
       "      <th>yr_built</th>\n",
       "      <th>yr_renovated</th>\n",
       "      <th>zipcode</th>\n",
       "      <th>lat</th>\n",
       "      <th>long</th>\n",
       "      <th>sqft_living15</th>\n",
       "      <th>sqft_lot15</th>\n",
       "      <th>date</th>\n",
       "      <th>price</th>\n",
       "    </tr>\n",
       "  </thead>\n",
       "  <tbody>\n",
       "    <tr>\n",
       "      <th>0</th>\n",
       "      <td>7129300520</td>\n",
       "      <td>3.0</td>\n",
       "      <td>1.00</td>\n",
       "      <td>1180.0</td>\n",
       "      <td>5650.0</td>\n",
       "      <td>1.0</td>\n",
       "      <td>NaN</td>\n",
       "      <td>0.0</td>\n",
       "      <td>3</td>\n",
       "      <td>7</td>\n",
       "      <td>...</td>\n",
       "      <td>0.0</td>\n",
       "      <td>1955</td>\n",
       "      <td>0.0</td>\n",
       "      <td>98178</td>\n",
       "      <td>47.5112</td>\n",
       "      <td>-122.257</td>\n",
       "      <td>1340.0</td>\n",
       "      <td>5650.0</td>\n",
       "      <td>2014-10-13</td>\n",
       "      <td>221900.0</td>\n",
       "    </tr>\n",
       "    <tr>\n",
       "      <th>1</th>\n",
       "      <td>6414100192</td>\n",
       "      <td>3.0</td>\n",
       "      <td>2.25</td>\n",
       "      <td>2570.0</td>\n",
       "      <td>7242.0</td>\n",
       "      <td>2.0</td>\n",
       "      <td>0.0</td>\n",
       "      <td>0.0</td>\n",
       "      <td>3</td>\n",
       "      <td>7</td>\n",
       "      <td>...</td>\n",
       "      <td>400.0</td>\n",
       "      <td>1951</td>\n",
       "      <td>19910.0</td>\n",
       "      <td>98125</td>\n",
       "      <td>47.7210</td>\n",
       "      <td>-122.319</td>\n",
       "      <td>1690.0</td>\n",
       "      <td>7639.0</td>\n",
       "      <td>2014-12-09</td>\n",
       "      <td>538000.0</td>\n",
       "    </tr>\n",
       "    <tr>\n",
       "      <th>2</th>\n",
       "      <td>5631500400</td>\n",
       "      <td>2.0</td>\n",
       "      <td>1.00</td>\n",
       "      <td>770.0</td>\n",
       "      <td>10000.0</td>\n",
       "      <td>1.0</td>\n",
       "      <td>0.0</td>\n",
       "      <td>0.0</td>\n",
       "      <td>3</td>\n",
       "      <td>6</td>\n",
       "      <td>...</td>\n",
       "      <td>0.0</td>\n",
       "      <td>1933</td>\n",
       "      <td>NaN</td>\n",
       "      <td>98028</td>\n",
       "      <td>47.7379</td>\n",
       "      <td>-122.233</td>\n",
       "      <td>2720.0</td>\n",
       "      <td>8062.0</td>\n",
       "      <td>2015-02-25</td>\n",
       "      <td>180000.0</td>\n",
       "    </tr>\n",
       "    <tr>\n",
       "      <th>3</th>\n",
       "      <td>2487200875</td>\n",
       "      <td>4.0</td>\n",
       "      <td>3.00</td>\n",
       "      <td>1960.0</td>\n",
       "      <td>5000.0</td>\n",
       "      <td>1.0</td>\n",
       "      <td>0.0</td>\n",
       "      <td>0.0</td>\n",
       "      <td>5</td>\n",
       "      <td>7</td>\n",
       "      <td>...</td>\n",
       "      <td>910.0</td>\n",
       "      <td>1965</td>\n",
       "      <td>0.0</td>\n",
       "      <td>98136</td>\n",
       "      <td>47.5208</td>\n",
       "      <td>-122.393</td>\n",
       "      <td>1360.0</td>\n",
       "      <td>5000.0</td>\n",
       "      <td>2014-12-09</td>\n",
       "      <td>604000.0</td>\n",
       "    </tr>\n",
       "    <tr>\n",
       "      <th>4</th>\n",
       "      <td>1954400510</td>\n",
       "      <td>3.0</td>\n",
       "      <td>2.00</td>\n",
       "      <td>1680.0</td>\n",
       "      <td>8080.0</td>\n",
       "      <td>1.0</td>\n",
       "      <td>0.0</td>\n",
       "      <td>0.0</td>\n",
       "      <td>3</td>\n",
       "      <td>8</td>\n",
       "      <td>...</td>\n",
       "      <td>0.0</td>\n",
       "      <td>1987</td>\n",
       "      <td>0.0</td>\n",
       "      <td>98074</td>\n",
       "      <td>47.6168</td>\n",
       "      <td>-122.045</td>\n",
       "      <td>1800.0</td>\n",
       "      <td>7503.0</td>\n",
       "      <td>2015-02-18</td>\n",
       "      <td>510000.0</td>\n",
       "    </tr>\n",
       "  </tbody>\n",
       "</table>\n",
       "<p>5 rows × 21 columns</p>\n",
       "</div>"
      ],
      "text/plain": [
       "           id  bedrooms  bathrooms  sqft_living  sqft_lot  floors  waterfront  \\\n",
       "0  7129300520       3.0       1.00       1180.0    5650.0     1.0         NaN   \n",
       "1  6414100192       3.0       2.25       2570.0    7242.0     2.0         0.0   \n",
       "2  5631500400       2.0       1.00        770.0   10000.0     1.0         0.0   \n",
       "3  2487200875       4.0       3.00       1960.0    5000.0     1.0         0.0   \n",
       "4  1954400510       3.0       2.00       1680.0    8080.0     1.0         0.0   \n",
       "\n",
       "   view  condition  grade  ...  sqft_basement  yr_built  yr_renovated  \\\n",
       "0   0.0          3      7  ...            0.0      1955           0.0   \n",
       "1   0.0          3      7  ...          400.0      1951       19910.0   \n",
       "2   0.0          3      6  ...            0.0      1933           NaN   \n",
       "3   0.0          5      7  ...          910.0      1965           0.0   \n",
       "4   0.0          3      8  ...            0.0      1987           0.0   \n",
       "\n",
       "   zipcode      lat     long  sqft_living15  sqft_lot15        date     price  \n",
       "0    98178  47.5112 -122.257         1340.0      5650.0  2014-10-13  221900.0  \n",
       "1    98125  47.7210 -122.319         1690.0      7639.0  2014-12-09  538000.0  \n",
       "2    98028  47.7379 -122.233         2720.0      8062.0  2015-02-25  180000.0  \n",
       "3    98136  47.5208 -122.393         1360.0      5000.0  2014-12-09  604000.0  \n",
       "4    98074  47.6168 -122.045         1800.0      7503.0  2015-02-18  510000.0  \n",
       "\n",
       "[5 rows x 21 columns]"
      ]
     },
     "execution_count": 56,
     "metadata": {},
     "output_type": "execute_result"
    }
   ],
   "source": [
    "# Display first 5 rows of the dataset\n",
    "df.head()"
   ]
  },
  {
   "cell_type": "code",
   "execution_count": 57,
   "metadata": {},
   "outputs": [
    {
     "data": {
      "text/html": [
       "<div>\n",
       "<style scoped>\n",
       "    .dataframe tbody tr th:only-of-type {\n",
       "        vertical-align: middle;\n",
       "    }\n",
       "\n",
       "    .dataframe tbody tr th {\n",
       "        vertical-align: top;\n",
       "    }\n",
       "\n",
       "    .dataframe thead th {\n",
       "        text-align: right;\n",
       "    }\n",
       "</style>\n",
       "<table border=\"1\" class=\"dataframe\">\n",
       "  <thead>\n",
       "    <tr style=\"text-align: right;\">\n",
       "      <th></th>\n",
       "      <th>id</th>\n",
       "      <th>bedrooms</th>\n",
       "      <th>bathrooms</th>\n",
       "      <th>sqft_living</th>\n",
       "      <th>sqft_lot</th>\n",
       "      <th>floors</th>\n",
       "      <th>waterfront</th>\n",
       "      <th>view</th>\n",
       "      <th>condition</th>\n",
       "      <th>grade</th>\n",
       "      <th>...</th>\n",
       "      <th>sqft_basement</th>\n",
       "      <th>yr_built</th>\n",
       "      <th>yr_renovated</th>\n",
       "      <th>zipcode</th>\n",
       "      <th>lat</th>\n",
       "      <th>long</th>\n",
       "      <th>sqft_living15</th>\n",
       "      <th>sqft_lot15</th>\n",
       "      <th>date</th>\n",
       "      <th>price</th>\n",
       "    </tr>\n",
       "  </thead>\n",
       "  <tbody>\n",
       "    <tr>\n",
       "      <th>21592</th>\n",
       "      <td>263000018</td>\n",
       "      <td>3.0</td>\n",
       "      <td>2.50</td>\n",
       "      <td>1530.0</td>\n",
       "      <td>1131.0</td>\n",
       "      <td>3.0</td>\n",
       "      <td>0.0</td>\n",
       "      <td>0.0</td>\n",
       "      <td>3</td>\n",
       "      <td>8</td>\n",
       "      <td>...</td>\n",
       "      <td>0.0</td>\n",
       "      <td>2009</td>\n",
       "      <td>0.0</td>\n",
       "      <td>98103</td>\n",
       "      <td>47.6993</td>\n",
       "      <td>-122.346</td>\n",
       "      <td>1530.0</td>\n",
       "      <td>1509.0</td>\n",
       "      <td>2014-05-21</td>\n",
       "      <td>360000.0</td>\n",
       "    </tr>\n",
       "    <tr>\n",
       "      <th>21593</th>\n",
       "      <td>6600060120</td>\n",
       "      <td>4.0</td>\n",
       "      <td>2.50</td>\n",
       "      <td>2310.0</td>\n",
       "      <td>5813.0</td>\n",
       "      <td>2.0</td>\n",
       "      <td>0.0</td>\n",
       "      <td>0.0</td>\n",
       "      <td>3</td>\n",
       "      <td>8</td>\n",
       "      <td>...</td>\n",
       "      <td>0.0</td>\n",
       "      <td>2014</td>\n",
       "      <td>0.0</td>\n",
       "      <td>98146</td>\n",
       "      <td>47.5107</td>\n",
       "      <td>-122.362</td>\n",
       "      <td>1830.0</td>\n",
       "      <td>7200.0</td>\n",
       "      <td>2015-02-23</td>\n",
       "      <td>400000.0</td>\n",
       "    </tr>\n",
       "    <tr>\n",
       "      <th>21594</th>\n",
       "      <td>1523300141</td>\n",
       "      <td>2.0</td>\n",
       "      <td>0.75</td>\n",
       "      <td>1020.0</td>\n",
       "      <td>1350.0</td>\n",
       "      <td>2.0</td>\n",
       "      <td>0.0</td>\n",
       "      <td>0.0</td>\n",
       "      <td>3</td>\n",
       "      <td>7</td>\n",
       "      <td>...</td>\n",
       "      <td>0.0</td>\n",
       "      <td>2009</td>\n",
       "      <td>0.0</td>\n",
       "      <td>98144</td>\n",
       "      <td>47.5944</td>\n",
       "      <td>-122.299</td>\n",
       "      <td>1020.0</td>\n",
       "      <td>2007.0</td>\n",
       "      <td>2014-06-23</td>\n",
       "      <td>402101.0</td>\n",
       "    </tr>\n",
       "    <tr>\n",
       "      <th>21595</th>\n",
       "      <td>291310100</td>\n",
       "      <td>3.0</td>\n",
       "      <td>2.50</td>\n",
       "      <td>1600.0</td>\n",
       "      <td>2388.0</td>\n",
       "      <td>2.0</td>\n",
       "      <td>NaN</td>\n",
       "      <td>0.0</td>\n",
       "      <td>3</td>\n",
       "      <td>8</td>\n",
       "      <td>...</td>\n",
       "      <td>0.0</td>\n",
       "      <td>2004</td>\n",
       "      <td>0.0</td>\n",
       "      <td>98027</td>\n",
       "      <td>47.5345</td>\n",
       "      <td>-122.069</td>\n",
       "      <td>1410.0</td>\n",
       "      <td>1287.0</td>\n",
       "      <td>2015-01-16</td>\n",
       "      <td>400000.0</td>\n",
       "    </tr>\n",
       "    <tr>\n",
       "      <th>21596</th>\n",
       "      <td>1523300157</td>\n",
       "      <td>2.0</td>\n",
       "      <td>0.75</td>\n",
       "      <td>1020.0</td>\n",
       "      <td>1076.0</td>\n",
       "      <td>2.0</td>\n",
       "      <td>0.0</td>\n",
       "      <td>0.0</td>\n",
       "      <td>3</td>\n",
       "      <td>7</td>\n",
       "      <td>...</td>\n",
       "      <td>0.0</td>\n",
       "      <td>2008</td>\n",
       "      <td>0.0</td>\n",
       "      <td>98144</td>\n",
       "      <td>47.5941</td>\n",
       "      <td>-122.299</td>\n",
       "      <td>1020.0</td>\n",
       "      <td>1357.0</td>\n",
       "      <td>2014-10-15</td>\n",
       "      <td>325000.0</td>\n",
       "    </tr>\n",
       "  </tbody>\n",
       "</table>\n",
       "<p>5 rows × 21 columns</p>\n",
       "</div>"
      ],
      "text/plain": [
       "               id  bedrooms  bathrooms  sqft_living  sqft_lot  floors  \\\n",
       "21592   263000018       3.0       2.50       1530.0    1131.0     3.0   \n",
       "21593  6600060120       4.0       2.50       2310.0    5813.0     2.0   \n",
       "21594  1523300141       2.0       0.75       1020.0    1350.0     2.0   \n",
       "21595   291310100       3.0       2.50       1600.0    2388.0     2.0   \n",
       "21596  1523300157       2.0       0.75       1020.0    1076.0     2.0   \n",
       "\n",
       "       waterfront  view  condition  grade  ...  sqft_basement  yr_built  \\\n",
       "21592         0.0   0.0          3      8  ...            0.0      2009   \n",
       "21593         0.0   0.0          3      8  ...            0.0      2014   \n",
       "21594         0.0   0.0          3      7  ...            0.0      2009   \n",
       "21595         NaN   0.0          3      8  ...            0.0      2004   \n",
       "21596         0.0   0.0          3      7  ...            0.0      2008   \n",
       "\n",
       "       yr_renovated  zipcode      lat     long  sqft_living15  sqft_lot15  \\\n",
       "21592           0.0    98103  47.6993 -122.346         1530.0      1509.0   \n",
       "21593           0.0    98146  47.5107 -122.362         1830.0      7200.0   \n",
       "21594           0.0    98144  47.5944 -122.299         1020.0      2007.0   \n",
       "21595           0.0    98027  47.5345 -122.069         1410.0      1287.0   \n",
       "21596           0.0    98144  47.5941 -122.299         1020.0      1357.0   \n",
       "\n",
       "             date     price  \n",
       "21592  2014-05-21  360000.0  \n",
       "21593  2015-02-23  400000.0  \n",
       "21594  2014-06-23  402101.0  \n",
       "21595  2015-01-16  400000.0  \n",
       "21596  2014-10-15  325000.0  \n",
       "\n",
       "[5 rows x 21 columns]"
      ]
     },
     "execution_count": 57,
     "metadata": {},
     "output_type": "execute_result"
    }
   ],
   "source": [
    "# Display last 5 rows of the dataset\n",
    "df.tail()"
   ]
  },
  {
   "cell_type": "markdown",
   "metadata": {},
   "source": [
    "### Column Names and Descriptions for the Dataset\n",
    "In this section, we will review the column names and their corresponding descriptions in the dataset. Understanding what each column represents is essential for correctly interpreting the data and ensuring that our analysis is accurate. We will verify that the column names are clear and consistent, and where necessary, provide or refine descriptions to enhance clarity."
   ]
  },
  {
   "cell_type": "code",
   "execution_count": 58,
   "metadata": {},
   "outputs": [
    {
     "data": {
      "text/plain": [
       "Index(['id', 'bedrooms', 'bathrooms', 'sqft_living', 'sqft_lot', 'floors',\n",
       "       'waterfront', 'view', 'condition', 'grade', 'sqft_above',\n",
       "       'sqft_basement', 'yr_built', 'yr_renovated', 'zipcode', 'lat', 'long',\n",
       "       'sqft_living15', 'sqft_lot15', 'date', 'price'],\n",
       "      dtype='object')"
      ]
     },
     "execution_count": 58,
     "metadata": {},
     "output_type": "execute_result"
    }
   ],
   "source": [
    "# Columns in the dataframe\n",
    "df.columns"
   ]
  },
  {
   "cell_type": "markdown",
   "metadata": {},
   "source": [
    "All column names are lowercase and use underscores instead of spaces, so there is no need to modify the column names at this stage.\n",
    "\n",
    "| Column Header | Description |\n",
    "|:- |:-|\n",
    "| **id** | unique identified for a house |\n",
    "| **bedrooms** | number of bedrooms |\n",
    "| **bathrooms** | number of bathrooms |\n",
    "| **sqft_living** | footage of the living space in squarefeet |\n",
    "| **sqft_lot** | footage of the lot in squarefeet |\n",
    "| **floors** | floors (levels) in the house |\n",
    "| **waterfront** | house which has a view to a waterfront |\n",
    "| **view** | quality of view |\n",
    "| **condition** | how good the condition is (overall) |\n",
    "| **grade** | overall grade given to the housing unit, based on King County grading system |\n",
    "| **sqft_above** | square footage of house apart from basement in squaremeters |\n",
    "| **sqft_basement** | square footage of the basement in squaremeters |\n",
    "| **yr_built** | year when the house was built |\n",
    "| **yr_renovated** | year when house was renovated the last time |\n",
    "| **zipcode** | zip code |\n",
    "| **lat** | latitude coordinate |\n",
    "| **long** | longitude coordinate |\n",
    "| **sqft_living15** | the square footage of interior housing living space for the nearest 15 neighbors in squarefeet |\n",
    "| **sqft_lot15** | the square footage of the land lots of the nearest 15 neighbors in squarefeet |\n",
    "| **date** | date when house was sold |\n",
    "| **price** | at which the house was sold |"
   ]
  },
  {
   "cell_type": "markdown",
   "metadata": {},
   "source": [
    "### Shape of the Dataset\n",
    "In this section, we will inspect the shape of the dataset, which refers to the number of rows and columns it contains. Understanding the dataset’s shape gives us an initial sense of its size and structure, helping us to plan the subsequent steps in our analysis. This overview will also allow us to quickly verify that the dataset was loaded correctly and completely."
   ]
  },
  {
   "cell_type": "code",
   "execution_count": 59,
   "metadata": {},
   "outputs": [
    {
     "data": {
      "text/plain": [
       "(21597, 21)"
      ]
     },
     "execution_count": 59,
     "metadata": {},
     "output_type": "execute_result"
    }
   ],
   "source": [
    "# Shape of the dataset (length and width)\n",
    "df.shape"
   ]
  },
  {
   "cell_type": "markdown",
   "metadata": {},
   "source": [
    "There are 21597 rows and 21 columns in the dataset."
   ]
  },
  {
   "cell_type": "markdown",
   "metadata": {},
   "source": [
    "### Datatypes in the Dataset\n",
    "In this section, we will examine the datatypes of the columns in the dataset. Understanding the datatypes is crucial because they determine how the data can be manipulated and analyzed. We will verify that each column's datatype is appropriate for the kind of data it holds, and make any necessary adjustments to ensure consistency and accuracy in our analysis."
   ]
  },
  {
   "cell_type": "code",
   "execution_count": 60,
   "metadata": {},
   "outputs": [
    {
     "name": "stdout",
     "output_type": "stream",
     "text": [
      "<class 'pandas.core.frame.DataFrame'>\n",
      "RangeIndex: 21597 entries, 0 to 21596\n",
      "Data columns (total 21 columns):\n",
      " #   Column         Non-Null Count  Dtype  \n",
      "---  ------         --------------  -----  \n",
      " 0   id             21597 non-null  int64  \n",
      " 1   bedrooms       21597 non-null  float64\n",
      " 2   bathrooms      21597 non-null  float64\n",
      " 3   sqft_living    21597 non-null  float64\n",
      " 4   sqft_lot       21597 non-null  float64\n",
      " 5   floors         21597 non-null  float64\n",
      " 6   waterfront     19206 non-null  float64\n",
      " 7   view           21534 non-null  float64\n",
      " 8   condition      21597 non-null  int64  \n",
      " 9   grade          21597 non-null  int64  \n",
      " 10  sqft_above     21597 non-null  float64\n",
      " 11  sqft_basement  21145 non-null  float64\n",
      " 12  yr_built       21597 non-null  int64  \n",
      " 13  yr_renovated   17749 non-null  float64\n",
      " 14  zipcode        21597 non-null  int64  \n",
      " 15  lat            21597 non-null  float64\n",
      " 16  long           21597 non-null  float64\n",
      " 17  sqft_living15  21597 non-null  float64\n",
      " 18  sqft_lot15     21597 non-null  float64\n",
      " 19  date           21597 non-null  object \n",
      " 20  price          21597 non-null  float64\n",
      "dtypes: float64(15), int64(5), object(1)\n",
      "memory usage: 3.5+ MB\n"
     ]
    }
   ],
   "source": [
    "# Checking for the data-types\n",
    "df.info()"
   ]
  },
  {
   "cell_type": "markdown",
   "metadata": {},
   "source": [
    "| Data-Type | Result |\n",
    "|:-|:-|\n",
    "| *object* | There is only 1 feature (column) with an object data-type in our dataset: 'date'. This means, there are strings or mixed data-types in this column. <br> - Since 'date' means the date when house was sold, this needs to be changed into a datetime format. |\n",
    "| *int64* | Furthermore there are 5 features (columns) with integer data-types: 'id', 'condition', 'grade', 'yr_built', and 'zipcode'. <br> - For 'id' and 'zipcode', integer numerical values are expected. <br> - 'yr_built' means the year when house was built. However, since the datetime data-type does not allow for displaying the year only, this feature is kept in the datatype integer.<br> - The numerical values of 'condition' and 'grade' likely are categories and, hence, will be changed to appropiate categorial labels when plotting figures. |\n",
    "| *float65* | Floats are the data-types of the remaining 15 features (columns): 'bedrooms', 'bathrooms', 'sqft_living', 'sqft_lot', 'floors', 'waterfront', 'view', 'sqft_above', 'sqft_basement', 'yr_renovated', 'lat', 'long', 'sqft_living15', 'sqft_lot15' and 'price'. <br> - Since 'bathrooms' and 'floors' can be *.5 and 'lat', 'long' are coordinates, having naturally decimal places, their data type has not to be changed.  <br> - The number of 'bedrooms', 'sqft_living','sqft_lot', 'sqft_above', 'sqft_basement', 'sqft_living15', 'sqft_lot15' and 'price' have no decimal places other than zeroth (see test below), therefore can be changed to integers.  <br> - 'view' contains categorial numbers (integers) and will be changed to strings with appropiate bin names.  <br> - 'waterfront' only contains '1' and '0' (as well as NaN) for 'yes' and 'no' presumably (see test below) and can therefore be changed to boolian data type.  <br> - 'yr_renovated' is a date that only contains a year. Years cannot be independently represented in datetime format. Therefore, it will be changed to integer data type. |"
   ]
  },
  {
   "cell_type": "markdown",
   "metadata": {},
   "source": [
    "### Checking for Missing Values\n",
    "In this section, we will identify and analyze any missing values in the dataset. Missing data can lead to biased results or reduce the effectiveness of our analysis, so it is essential to understand the extent and pattern of missingness. We will explore the missing values, determine their potential impact, and decide on appropriate strategies for handling them, such as imputation or removal."
   ]
  },
  {
   "cell_type": "code",
   "execution_count": 61,
   "metadata": {},
   "outputs": [
    {
     "data": {
      "text/plain": [
       "id                  0\n",
       "bedrooms            0\n",
       "bathrooms           0\n",
       "sqft_living         0\n",
       "sqft_lot            0\n",
       "floors              0\n",
       "waterfront       2391\n",
       "view               63\n",
       "condition           0\n",
       "grade               0\n",
       "sqft_above          0\n",
       "sqft_basement     452\n",
       "yr_built            0\n",
       "yr_renovated     3848\n",
       "zipcode             0\n",
       "lat                 0\n",
       "long                0\n",
       "sqft_living15       0\n",
       "sqft_lot15          0\n",
       "date                0\n",
       "price               0\n",
       "dtype: int64"
      ]
     },
     "execution_count": 61,
     "metadata": {},
     "output_type": "execute_result"
    }
   ],
   "source": [
    "# Checking for missing values ('NaN'/'None')\n",
    "df.isnull().sum()"
   ]
  },
  {
   "cell_type": "code",
   "execution_count": 62,
   "metadata": {},
   "outputs": [
    {
     "data": {
      "text/plain": [
       "<Axes: >"
      ]
     },
     "execution_count": 62,
     "metadata": {},
     "output_type": "execute_result"
    },
    {
     "data": {
      "image/png": "[encoded data removed]",
      "text/plain": [
       "<Figure size 2500x1000 with 3 Axes>"
      ]
     },
     "metadata": {},
     "output_type": "display_data"
    }
   ],
   "source": [
    "# plotting percentage of missing values per column\n",
    "msno.bar(df)"
   ]
  },
  {
   "cell_type": "code",
   "execution_count": 63,
   "metadata": {},
   "outputs": [
    {
     "data": {
      "text/plain": [
       "<Axes: >"
      ]
     },
     "execution_count": 63,
     "metadata": {},
     "output_type": "execute_result"
    },
    {
     "data": {
      "image/png": "[encoded data removed]",
      "text/plain": [
       "<Figure size 2500x1000 with 2 Axes>"
      ]
     },
     "metadata": {},
     "output_type": "display_data"
    }
   ],
   "source": [
    "# plotting the matrix of missing values\n",
    "msno.matrix(df)"
   ]
  },
  {
   "cell_type": "markdown",
   "metadata": {},
   "source": [
    "There are few instances where missing values co-occur, and there appears to be no discernible pattern in the distribution of missing data. Consequently, it seems that the missing data occurs randomly."
   ]
  },
  {
   "cell_type": "markdown",
   "metadata": {},
   "source": [
    "The columns of the features 'waterfront', 'view', 'sqft_basement' and 'yr_renovated' have cell values of NaN/None, indicating missing data. <br> Except for these columns, we have 21597 non-null values in each of the other columns, which is exactly the same number as we have rows.   \n",
    "<br> Meaning: We only seem to have missing values in the columns 'waterfront', 'view', 'sqft_basement' and 'yr_renovated'."
   ]
  },
  {
   "cell_type": "markdown",
   "metadata": {},
   "source": [
    "### Checking for Duplicate rows\n",
    "In this section, we will identify and address any duplicate rows in the dataset. Duplicate rows can skew the results of our analysis by over-representing certain data points. We will check for duplicates, understand the reasons behind any repetitions, and determine the appropriate action, such as removing or consolidating these duplicates, to ensure the integrity of our dataset."
   ]
  },
  {
   "cell_type": "code",
   "execution_count": 64,
   "metadata": {},
   "outputs": [
    {
     "data": {
      "text/plain": [
       "id\n",
       "False    21420\n",
       "True       177\n",
       "Name: count, dtype: int64"
      ]
     },
     "execution_count": 64,
     "metadata": {},
     "output_type": "execute_result"
    }
   ],
   "source": [
    "# check for duplicate rows in the id column\n",
    "df[\"id\"].duplicated().value_counts()"
   ]
  },
  {
   "cell_type": "markdown",
   "metadata": {},
   "source": [
    "The dataset contains data on 21,420 individual houses, spanning 21,597 rows. As a result, the 21,597 rows do not represent unique houses; instead, there are 21,420 unique properties. The presence of 177 duplicate rows suggests that several houses might have been sold more than once.\n",
    "\n",
    "To determine whether these rows are exact duplicates or if the houses have been sold multiple times, the next step will involve checking the 'date' column for duplicate entries."
   ]
  },
  {
   "cell_type": "code",
   "execution_count": 65,
   "metadata": {},
   "outputs": [
    {
     "data": {
      "text/plain": [
       "\"There are no duplicates based on 'id' and 'date' together.\""
      ]
     },
     "execution_count": 65,
     "metadata": {},
     "output_type": "execute_result"
    }
   ],
   "source": [
    "check_duplicates(df)"
   ]
  },
  {
   "cell_type": "markdown",
   "metadata": {},
   "source": [
    "Therefore, these houses have been sold multiple times throughout their lifespan, causing them to appear in the dataset more than once.\n",
    "\n",
    "To ensure the presentation of the most current house pricing, only the latest sales transactions will be retained"
   ]
  },
  {
   "cell_type": "markdown",
   "metadata": {},
   "source": [
    "### Checking for Integer Floats\n",
    "In this section, we will identify any float columns in the dataset that contain values which are effectively integers (i.e., values without any decimal places). These \"integer floats\" can often be converted to integer data types, which may simplify the analysis and reduce memory usage. By checking for and converting these values, we ensure that the data types used in our dataset accurately reflect the nature of the data."
   ]
  },
  {
   "cell_type": "code",
   "execution_count": 66,
   "metadata": {},
   "outputs": [
    {
     "data": {
      "text/plain": [
       "{'bedrooms': True,\n",
       " 'bathrooms': False,\n",
       " 'sqft_living': True,\n",
       " 'sqft_lot': True,\n",
       " 'floors': False,\n",
       " 'waterfront': True,\n",
       " 'view': True,\n",
       " 'sqft_above': True,\n",
       " 'sqft_basement': True,\n",
       " 'yr_renovated': True,\n",
       " 'lat': False,\n",
       " 'long': False,\n",
       " 'sqft_living15': True,\n",
       " 'sqft_lot15': True,\n",
       " 'price': True}"
      ]
     },
     "execution_count": 66,
     "metadata": {},
     "output_type": "execute_result"
    }
   ],
   "source": [
    "check_float_columns_for_int_conversion(df)"
   ]
  },
  {
   "cell_type": "markdown",
   "metadata": {},
   "source": [
    "### Checking for Boolean Columns\n",
    "\n",
    "In this section, we will identify columns that can be considered boolean in the dataset. Understanding the potential boolean nature of column sis crucial for accurately analyzing its impact on property characteristics."
   ]
  },
  {
   "cell_type": "code",
   "execution_count": 67,
   "metadata": {},
   "outputs": [
    {
     "data": {
      "text/plain": [
       "['waterfront']"
      ]
     },
     "execution_count": 67,
     "metadata": {},
     "output_type": "execute_result"
    }
   ],
   "source": [
    "check_potential_boolean_columns(df)"
   ]
  },
  {
   "cell_type": "markdown",
   "metadata": {},
   "source": [
    "## Cleaning the Data\n",
    "In this section, we will focus on cleaning the dataset to ensure that it is accurate, consistent, and ready for analysis. Data cleaning involves addressing issues such as missing values, incorrect data types, outliers, and inconsistencies. By systematically cleaning the data, we enhance its quality and reliability, laying a solid foundation for meaningful analysis and insights."
   ]
  },
  {
   "cell_type": "markdown",
   "metadata": {},
   "source": [
    "### Droping Columns\n",
    "Since all the columns in the dataset are potentially relevant to the client's questions, hypotheses, and indicators outlined in the README.md, none of them will be dropped. Retaining all columns will allow for a more comprehensive exploration of the data and ensure that no potentially valuable information is excluded."
   ]
  },
  {
   "cell_type": "code",
   "execution_count": 68,
   "metadata": {},
   "outputs": [],
   "source": [
    "# drop columns that are not needed\n",
    "# df.drop([\"colunm_name\"], axis=1, inplace=True)"
   ]
  },
  {
   "cell_type": "markdown",
   "metadata": {},
   "source": [
    "### Transforming Data-Types\n",
    "\n",
    "As mentioned earlier, some columns in the dataset have data types that need to be transformed to better align with their content. This step is crucial for ensuring that the data is correctly interpreted and can be efficiently analyzed. We will identify the columns requiring transformation and convert them to the appropriate data types to improve data processing and analysis. Specifically:\n",
    "\n",
    "| Feature | Convert values to format |\n",
    "|:-|:-|\n",
    "| 'date' | datetime |\n",
    "| 'yr_renovated', bedrooms', 'sqft_living','sqft_lot', 'sqft_above', 'sqft_basement', 'sqft_living15', 'sqft_lot15', 'price' | integer |\n",
    "| 'waterfront' | boolian |\n",
    "| 'view' | string |"
   ]
  },
  {
   "cell_type": "code",
   "execution_count": 69,
   "metadata": {},
   "outputs": [],
   "source": [
    "# Convert values of the into datetime format\n",
    "df['date'] = pd.to_datetime(df['date'], format='mixed', yearfirst=True)"
   ]
  },
  {
   "cell_type": "code",
   "execution_count": 70,
   "metadata": {},
   "outputs": [],
   "source": [
    "# Convert values into integer format\n",
    "df = convert_columns_to_integers(df)"
   ]
  },
  {
   "cell_type": "code",
   "execution_count": 71,
   "metadata": {},
   "outputs": [],
   "source": [
    "# Convert values into boolean format\n",
    "df = convert_to_boolean(df, 'waterfront')"
   ]
  },
  {
   "cell_type": "markdown",
   "metadata": {},
   "source": [
    "### Rounding Floats\n",
    "\n",
    "Floats (decimal numbers) should be displayed rounded to the last non-zero decimal place. This ensures that the data is presented in a more readable and precise format.\n",
    "\n",
    "**Float Data Type**\n",
    "| Feature that is a float data-type | Last non-zero decimal place |\n",
    "|:-|:-|\n",
    "| 'bathrooms' | 2 |\n",
    "| 'floors' | 1 |\n",
    "| 'lat' | 3 |\n",
    "| 'long' | 3 |\n",
    "\n",
    "Since lat and long are already rounded to 3 decimal places, only bathrooms and floors need to be rounded accordingly."
   ]
  },
  {
   "cell_type": "code",
   "execution_count": 72,
   "metadata": {},
   "outputs": [],
   "source": [
    "# Round the values of the feature 'bathrooms' in the specific column to 2 decimal places\n",
    "df['bathrooms'] = df['bathrooms'].round(2)"
   ]
  },
  {
   "cell_type": "code",
   "execution_count": 73,
   "metadata": {},
   "outputs": [],
   "source": [
    "# Round the values of the feature 'floors' in the specific column to 1 decimal place\n",
    "df['floors'] = df['floors'].round(1)"
   ]
  },
  {
   "cell_type": "markdown",
   "metadata": {},
   "source": [
    "### Dealing with Duplicate Rows\n",
    "In this section, we will address any duplicate rows that exist in the dataset. To ensure that we present the most current house pricing, we will retain only the latest sales transactions. This will be accomplished by sorting the entries by date in descending order and keeping only the first occurrence of each, thereby eliminating any older duplicates."
   ]
  },
  {
   "cell_type": "code",
   "execution_count": 74,
   "metadata": {},
   "outputs": [],
   "source": [
    "df = remove_older_duplicates(df, id_column='id', date_column='date')"
   ]
  },
  {
   "cell_type": "markdown",
   "metadata": {},
   "source": [
    "### Verifying the Changes: Previewing the DataFrame\n",
    "\n",
    "To verify that our previous modifications (such as data type transformations and rounding) have been applied correctly, we will preview the first few rows of the DataFrame. This allows us to inspect the initial data and confirm that the changes have been implemented as expected."
   ]
  },
  {
   "cell_type": "code",
   "execution_count": 75,
   "metadata": {},
   "outputs": [
    {
     "data": {
      "text/html": [
       "<div>\n",
       "<style scoped>\n",
       "    .dataframe tbody tr th:only-of-type {\n",
       "        vertical-align: middle;\n",
       "    }\n",
       "\n",
       "    .dataframe tbody tr th {\n",
       "        vertical-align: top;\n",
       "    }\n",
       "\n",
       "    .dataframe thead th {\n",
       "        text-align: right;\n",
       "    }\n",
       "</style>\n",
       "<table border=\"1\" class=\"dataframe\">\n",
       "  <thead>\n",
       "    <tr style=\"text-align: right;\">\n",
       "      <th></th>\n",
       "      <th>id</th>\n",
       "      <th>bedrooms</th>\n",
       "      <th>bathrooms</th>\n",
       "      <th>sqft_living</th>\n",
       "      <th>sqft_lot</th>\n",
       "      <th>floors</th>\n",
       "      <th>waterfront</th>\n",
       "      <th>view</th>\n",
       "      <th>condition</th>\n",
       "      <th>grade</th>\n",
       "      <th>...</th>\n",
       "      <th>sqft_basement</th>\n",
       "      <th>yr_built</th>\n",
       "      <th>yr_renovated</th>\n",
       "      <th>zipcode</th>\n",
       "      <th>lat</th>\n",
       "      <th>long</th>\n",
       "      <th>sqft_living15</th>\n",
       "      <th>sqft_lot15</th>\n",
       "      <th>date</th>\n",
       "      <th>price</th>\n",
       "    </tr>\n",
       "  </thead>\n",
       "  <tbody>\n",
       "    <tr>\n",
       "      <th>0</th>\n",
       "      <td>7129300520</td>\n",
       "      <td>3</td>\n",
       "      <td>1.00</td>\n",
       "      <td>1180</td>\n",
       "      <td>5650</td>\n",
       "      <td>1.0</td>\n",
       "      <td>NaN</td>\n",
       "      <td>0.0</td>\n",
       "      <td>3</td>\n",
       "      <td>7</td>\n",
       "      <td>...</td>\n",
       "      <td>0</td>\n",
       "      <td>1955</td>\n",
       "      <td>&lt;NA&gt;</td>\n",
       "      <td>98178</td>\n",
       "      <td>47.5112</td>\n",
       "      <td>-122.257</td>\n",
       "      <td>1340</td>\n",
       "      <td>5650</td>\n",
       "      <td>2014-10-13</td>\n",
       "      <td>221900</td>\n",
       "    </tr>\n",
       "    <tr>\n",
       "      <th>1</th>\n",
       "      <td>6414100192</td>\n",
       "      <td>3</td>\n",
       "      <td>2.25</td>\n",
       "      <td>2570</td>\n",
       "      <td>7242</td>\n",
       "      <td>2.0</td>\n",
       "      <td>no</td>\n",
       "      <td>0.0</td>\n",
       "      <td>3</td>\n",
       "      <td>7</td>\n",
       "      <td>...</td>\n",
       "      <td>400</td>\n",
       "      <td>1951</td>\n",
       "      <td>1991</td>\n",
       "      <td>98125</td>\n",
       "      <td>47.7210</td>\n",
       "      <td>-122.319</td>\n",
       "      <td>1690</td>\n",
       "      <td>7639</td>\n",
       "      <td>2014-12-09</td>\n",
       "      <td>538000</td>\n",
       "    </tr>\n",
       "    <tr>\n",
       "      <th>2</th>\n",
       "      <td>5631500400</td>\n",
       "      <td>2</td>\n",
       "      <td>1.00</td>\n",
       "      <td>770</td>\n",
       "      <td>10000</td>\n",
       "      <td>1.0</td>\n",
       "      <td>no</td>\n",
       "      <td>0.0</td>\n",
       "      <td>3</td>\n",
       "      <td>6</td>\n",
       "      <td>...</td>\n",
       "      <td>0</td>\n",
       "      <td>1933</td>\n",
       "      <td>&lt;NA&gt;</td>\n",
       "      <td>98028</td>\n",
       "      <td>47.7379</td>\n",
       "      <td>-122.233</td>\n",
       "      <td>2720</td>\n",
       "      <td>8062</td>\n",
       "      <td>2015-02-25</td>\n",
       "      <td>180000</td>\n",
       "    </tr>\n",
       "    <tr>\n",
       "      <th>3</th>\n",
       "      <td>2487200875</td>\n",
       "      <td>4</td>\n",
       "      <td>3.00</td>\n",
       "      <td>1960</td>\n",
       "      <td>5000</td>\n",
       "      <td>1.0</td>\n",
       "      <td>no</td>\n",
       "      <td>0.0</td>\n",
       "      <td>5</td>\n",
       "      <td>7</td>\n",
       "      <td>...</td>\n",
       "      <td>910</td>\n",
       "      <td>1965</td>\n",
       "      <td>&lt;NA&gt;</td>\n",
       "      <td>98136</td>\n",
       "      <td>47.5208</td>\n",
       "      <td>-122.393</td>\n",
       "      <td>1360</td>\n",
       "      <td>5000</td>\n",
       "      <td>2014-12-09</td>\n",
       "      <td>604000</td>\n",
       "    </tr>\n",
       "    <tr>\n",
       "      <th>4</th>\n",
       "      <td>1954400510</td>\n",
       "      <td>3</td>\n",
       "      <td>2.00</td>\n",
       "      <td>1680</td>\n",
       "      <td>8080</td>\n",
       "      <td>1.0</td>\n",
       "      <td>no</td>\n",
       "      <td>0.0</td>\n",
       "      <td>3</td>\n",
       "      <td>8</td>\n",
       "      <td>...</td>\n",
       "      <td>0</td>\n",
       "      <td>1987</td>\n",
       "      <td>&lt;NA&gt;</td>\n",
       "      <td>98074</td>\n",
       "      <td>47.6168</td>\n",
       "      <td>-122.045</td>\n",
       "      <td>1800</td>\n",
       "      <td>7503</td>\n",
       "      <td>2015-02-18</td>\n",
       "      <td>510000</td>\n",
       "    </tr>\n",
       "  </tbody>\n",
       "</table>\n",
       "<p>5 rows × 21 columns</p>\n",
       "</div>"
      ],
      "text/plain": [
       "           id  bedrooms  bathrooms  sqft_living  sqft_lot  floors waterfront  \\\n",
       "0  7129300520         3       1.00         1180      5650     1.0        NaN   \n",
       "1  6414100192         3       2.25         2570      7242     2.0         no   \n",
       "2  5631500400         2       1.00          770     10000     1.0         no   \n",
       "3  2487200875         4       3.00         1960      5000     1.0         no   \n",
       "4  1954400510         3       2.00         1680      8080     1.0         no   \n",
       "\n",
       "   view  condition  grade  ...  sqft_basement yr_built  yr_renovated zipcode  \\\n",
       "0   0.0          3      7  ...              0     1955          <NA>   98178   \n",
       "1   0.0          3      7  ...            400     1951          1991   98125   \n",
       "2   0.0          3      6  ...              0     1933          <NA>   98028   \n",
       "3   0.0          5      7  ...            910     1965          <NA>   98136   \n",
       "4   0.0          3      8  ...              0     1987          <NA>   98074   \n",
       "\n",
       "       lat     long  sqft_living15  sqft_lot15       date   price  \n",
       "0  47.5112 -122.257           1340        5650 2014-10-13  221900  \n",
       "1  47.7210 -122.319           1690        7639 2014-12-09  538000  \n",
       "2  47.7379 -122.233           2720        8062 2015-02-25  180000  \n",
       "3  47.5208 -122.393           1360        5000 2014-12-09  604000  \n",
       "4  47.6168 -122.045           1800        7503 2015-02-18  510000  \n",
       "\n",
       "[5 rows x 21 columns]"
      ]
     },
     "execution_count": 75,
     "metadata": {},
     "output_type": "execute_result"
    }
   ],
   "source": [
    "# Check result\n",
    "df.head()"
   ]
  },
  {
   "cell_type": "markdown",
   "metadata": {},
   "source": [
    "## Feature engineering\n",
    "In this section, we will focus on feature engineering, a crucial step in enhancing the dataset by creating new features or transforming existing ones to better capture the underlying patterns in the data. Through feature engineering, we aim to improve the dataset's relevance and predictive power, making it more aligned with the hypotheses or analysis goals. This process may involve creating new variables, combining or transforming existing features, and encoding categorical variables to ensure they contribute effectively to the analysis."
   ]
  },
  {
   "cell_type": "markdown",
   "metadata": {},
   "source": [
    "### Calculate the Distance From Seattle's Center\n",
    "In this step, we will calculate the distance from each property to the center of Seattle, which is located at latitude 47.6062 and longitude -122.3321, according to Google Maps. We will use the geodesic method to compute the distance in miles. The calculated distance will then be added to the DataFrame as a new column named dist_center, providing a useful feature for further analysis."
   ]
  },
  {
   "cell_type": "code",
   "execution_count": 76,
   "metadata": {},
   "outputs": [],
   "source": [
    "# Apply the function row-wise and create a new column 'dist_center'\n",
    "df['mile_dist_center'] = df.apply(distance_to_center, axis=1)"
   ]
  },
  {
   "cell_type": "markdown",
   "metadata": {},
   "source": [
    "### Calculate the Actual Age at the Time of Sale\n",
    "Next, we will calculate the actual age of each house at the time it was sold. This is done by subtracting the year the house was built (yr_built) from the year of the sale (date). The resulting value will be added as a new column, age_at_sale, in the DataFrame, providing an important feature for understanding the relationship between a house's age and its sale price."
   ]
  },
  {
   "cell_type": "code",
   "execution_count": 77,
   "metadata": {},
   "outputs": [],
   "source": [
    "df['age_at_sale'] = df['date'].dt.year - df['yr_built']"
   ]
  },
  {
   "cell_type": "markdown",
   "metadata": {},
   "source": [
    "### Calculate a Binary Indicator for Renovation\n",
    "We will now create a binary indicator to determine whether each house was ever renovated. This will be done by examining the yr_renovated column: if the value is NaN or 0, it indicates that the house was not renovated, and we will label it as 'unrenovated'; otherwise, it will be labeled as 'renovated'. This new indicator will be added to the DataFrame as a column named renovation_status, providing a clear feature to distinguish between renovated and unrenovated houses."
   ]
  },
  {
   "cell_type": "code",
   "execution_count": 78,
   "metadata": {},
   "outputs": [],
   "source": [
    "df['renovation_status'] = df['yr_renovated'].apply(lambda x: 'unrenovated' if pd.isna(x) else 'renovated')"
   ]
  },
  {
   "cell_type": "markdown",
   "metadata": {},
   "source": [
    "### Calculate the Years Since Renovation\n",
    "Next, we will calculate the number of years since the last renovation for each house. This will be done by subtracting the renovation year (yr_renovated) from the year of the sale (date). If a house has never been renovated (indicated by yr_renovated being NaN or 0), we will set the value to 0 to indicate that no renovation has occurred. This new feature will be added to the DataFrame as a column named yrs_since_renovation, providing insight into how recent renovations may impact the house's sale price."
   ]
  },
  {
   "cell_type": "code",
   "execution_count": 79,
   "metadata": {},
   "outputs": [],
   "source": [
    "df['yrs_since_renovation'] = df['date'].dt.year - df['yr_renovated']"
   ]
  },
  {
   "cell_type": "markdown",
   "metadata": {},
   "source": [
    "### Calculate the Price per Square Foot\n",
    "In this step, we will calculate the price per square foot for each property. This metric is obtained by dividing the sale price (price) by the total living area in square feet (sqft_living). The resulting value will be added as a new column named price_per_sqft in the DataFrame. This feature will be useful for later comparisons, providing a standardized way to assess property values relative to their size."
   ]
  },
  {
   "cell_type": "code",
   "execution_count": 80,
   "metadata": {},
   "outputs": [],
   "source": [
    "df['price_per_sqft'] = df['price'] / df['sqft_living']"
   ]
  },
  {
   "cell_type": "markdown",
   "metadata": {},
   "source": [
    "### Categorize Houses by Location: City vs. Countryside\n",
    "In this step, we will categorize the houses based on their location relative to the city of Seattle. We will define properties within the official city limits of Seattle as being in the 'city' and those outside as being in the 'countryside'. This categorization will be added to the DataFrame as a new column named location_type, allowing for comparisons between urban and rural properties in the analysis.\n",
    "\n",
    "There are several ways to do that:\n",
    "\n",
    "- **Geographic Boundaries**\n",
    "    If the geographic boundaries that typically separate urban from rural areas around Seattle are known, you can categorize houses based on whether their coordinates fall within those boundaries.\n",
    "\n",
    "- **Population Density**\n",
    "    Areas with higher population densities are typically considered urban, while lower densities suggest rural areas. If you have access to population density data by region, you could use this to categorize houses.\n",
    "\n",
    "- **Proximity to City Center**\n",
    "    A common approach is to define a distance from a central point in the city (e.g., downtown Seattle) and classify houses within a certain radius as \"city\" and those outside as \"countryside.\" This method assumes that urban characteristics diminish with distance from the city center.\n",
    "\n",
    "- **Use of Administrative Boundaries**\n",
    "    Utilizing administrative boundaries such as city limits or postal codes (zipcodes) can also help. Houses within city limits might be classified as \"city,\" while those outside could be considered \"countryside.\"\n",
    "\n",
    "The data given in the dataframe allows in principle for using the proximitty to the city center (features: 'lan', 'long') as well as the use of administrative boundaries (feature: 'zipcode'). Since Seattle is rather elongated along the sea, the (radial) proximitty method might not reflect the city / countrside boundary well. Therefore, in the following, the administrative boundaries will be used for the classification.\n",
    "\n",
    "Seattle, being a major city, encompasses a variety of ZIP codes across its diverse neighborhoods. While the list of ZIP codes can evolve slightly over time due to changes in postal routes or city planning decisions, here's a comprehensive list of ZIP codes generally considered to be within Seattle city limits as of my last update bases on the webpage of the city of Seattle (https://www.seattle.gov):\n",
    "\n",
    "| Zipcode | Name of the District |\n",
    "|:-|:-|\n",
    "| 98101 | Downtown Seattle |\n",
    "| 98102 | Capitol Hill |\n",
    "| 98103 | Greenwood, Fremont, Green Lake |\n",
    "| 98104 | Pioneer Square, Chinatown |\n",
    "| 98105 | University District, Laurelhurst |\n",
    "| 98106 | West Seattle, South Park |\n",
    "| 98107 | Ballard |\n",
    "| 98108 | Georgetown, South Park |\n",
    "| 98109 | South Lake Union, Queen Anne |\n",
    "| 98112 | Madison Park, Capitol Hill |\n",
    "| 98115 | Ravenna, Wedgwood |\n",
    "| 98116 | West Seattle |\n",
    "| 98117 | Ballard, Crown Hill |\n",
    "| 98118 | Rainier Valley, Seward Park |\n",
    "| 98119 | Queen Anne |\n",
    "| 98121 | Belltown, Downtown Seattle |\n",
    "| 98122 | Central District, Capitol Hill |\n",
    "| 98125 | Lake City, Northgate |\n",
    "| 98126 | West Seattle |\n",
    "| 98133 | North Seattle, part of Shoreline |\n",
    "| 98134 | Industrial District |\n",
    "| 98136 | West Seattle |\n",
    "| 98144 | Mount Baker, Leschi, Beacon Hill |\n",
    "| 98146 | West Seattle, part of Burien |\n",
    "| 98154 | Downtown Seattle (mostly commercial) |\n",
    "| 98164 | Downtown Seattle (PO boxes) |\n",
    "| 98174 | Downtown Seattle (PO boxes) |\n",
    "| 98177 | North Seattle, part of Shoreline |\n",
    "| 98178 | Rainier Beach, Skyway (parts) |\n",
    "| 98195 | University of Washington Campus |\n",
    "| 98199 | Magnolia |\n",
    "\n",
    "Note: ZIP codes like 98133 and 98177 also cover areas in the city of Shoreline, which is directly north of Seattle, and 98146 includes parts of Burien to the south. Additionally, some ZIP codes are primarily used for PO boxes or specific commercial buildings, which might not correspond to residential areas.\n",
    "\n",
    "This list provides a snapshot of Seattle's ZIP codes, useful for classifying locations within the city versus the countryside or suburban areas.\n",
    "\n",
    "We categorize each property as either being in the city of Seattle or in the surrounding countryside, using ZIP codes as a geographical identifier:"
   ]
  },
  {
   "cell_type": "code",
   "execution_count": 81,
   "metadata": {},
   "outputs": [],
   "source": [
    "df['location_type'] = df['zipcode'].apply(classify_by_zip_code)"
   ]
  },
  {
   "cell_type": "markdown",
   "metadata": {},
   "source": [
    "### Mapping and Categorizing Property 'View'\n",
    "\n",
    "In this section, we will enhance the readability and interpretability of the dataset by mapping numeric condition of the 'view' feature ratings to descriptive labels. This step involves converting the numerical condition scores into meaningful categories such as \"No View\", \"Limited View\", \"Partial View\", \"Good View\", and \"Excellent View\". We will also ensure that these categories are ordered appropriately for subsequent analysis."
   ]
  },
  {
   "cell_type": "code",
   "execution_count": 82,
   "metadata": {},
   "outputs": [],
   "source": [
    "view_mapping = {\n",
    "    0.000: \"No View\",\n",
    "    1.000: \"Limited View\",\n",
    "    2.000: \"Partial View\",\n",
    "    3.000: \"Good View\",\n",
    "    4.000: \"Excellent View\"\n",
    "}\n",
    "\n",
    "view_order = [\"No View\", \"Limited View\", \"Partial View\",  \"Good View\", \"Excellent View\"]\n",
    "\n",
    "df = descriptive_label_mapping(df, 'view', view_mapping, view_order)"
   ]
  },
  {
   "cell_type": "markdown",
   "metadata": {},
   "source": [
    "### Mapping and Categorizing Property 'Condition'\n",
    "\n",
    "In this section, we will enhance the readability and interpretability of the dataset by mapping numeric condition ratings of the feature 'Condition' to descriptive labels. This step involves converting the numerical condition scores into meaningful categories such as “Poor,” “Fair,” “Average,” “Good,” and “Excellent.” We will also ensure that these categories are ordered appropriately for subsequent analysis."
   ]
  },
  {
   "cell_type": "code",
   "execution_count": 83,
   "metadata": {},
   "outputs": [],
   "source": [
    "condition_mapping = {\n",
    "    1: \"Poor\",\n",
    "    2: \"Fair\",\n",
    "    3: \"Average\",\n",
    "    4: \"Good\",\n",
    "    5: \"Excellent\"\n",
    "}\n",
    "\n",
    "condition_order = [\"Poor\", \"Fair\", \"Average\", \"Good\", \"Excellent\"]\n",
    "\n",
    "df = descriptive_label_mapping(df, 'condition', condition_mapping, condition_order)"
   ]
  },
  {
   "cell_type": "markdown",
   "metadata": {},
   "source": [
    "### Mapping and Categorizing Property 'Grade'\n",
    "\n",
    "In this section, we will convert the numerical property grade scores into descriptive labels that better reflect the quality of the homes. This involves mapping the grade numbers to categories such as “Very Poor,” “Good,” and “Exceptional,” making the dataset more intuitive and easier to analyze. AWe will also ensure that these categories are ordered appropriately for subsequent analysis."
   ]
  },
  {
   "cell_type": "code",
   "execution_count": 84,
   "metadata": {},
   "outputs": [],
   "source": [
    "# Define the mapping from grade numbers to descriptive labels\n",
    "grade_mapping = {\n",
    "    3: \"Very Poor\",\n",
    "    4: \"Poor\",\n",
    "    5: \"Below Average\",\n",
    "    6: \"Fair\",\n",
    "    7: \"Average\",\n",
    "    8: \"Good\",\n",
    "    9: \"Very Good\",\n",
    "    10: \"Excellent\",\n",
    "    11: \"Outstanding\",\n",
    "    12: \"Superior\",\n",
    "    13: \"Exceptional\"\n",
    "}\n",
    "\n",
    "grade_order = [\"Very Poor\", \"Poor\", \"Below Average\", \"Fair\", \"Average\", \n",
    "               \"Good\", \"Very Good\", \"Excellent\", \"Outstanding\", \n",
    "               \"Superior\", \"Exceptional\"]\n",
    "\n",
    "df = descriptive_label_mapping(df, 'grade', grade_mapping, grade_order)"
   ]
  },
  {
   "cell_type": "markdown",
   "metadata": {},
   "source": [
    "## Closing"
   ]
  },
  {
   "cell_type": "markdown",
   "metadata": {},
   "source": [
    "### Verifying the Changes: Previewing the DataFrame\n",
    "\n",
    "To ensure that our feature engineering has been applied correctly, we will preview the columns and the first few rows of the DataFrame. This step allows us to inspect the updated data and confirm that the new features and modifications have been implemented as intended."
   ]
  },
  {
   "cell_type": "code",
   "execution_count": 85,
   "metadata": {},
   "outputs": [
    {
     "name": "stdout",
     "output_type": "stream",
     "text": [
      "Index(['id', 'bedrooms', 'bathrooms', 'sqft_living', 'sqft_lot', 'floors',\n",
      "       'waterfront', 'view', 'condition', 'grade', 'sqft_above',\n",
      "       'sqft_basement', 'yr_built', 'yr_renovated', 'zipcode', 'lat', 'long',\n",
      "       'sqft_living15', 'sqft_lot15', 'date', 'price', 'mile_dist_center',\n",
      "       'age_at_sale', 'renovation_status', 'yrs_since_renovation',\n",
      "       'price_per_sqft', 'location_type', 'view_cat', 'condition_cat',\n",
      "       'grade_cat'],\n",
      "      dtype='object')\n"
     ]
    }
   ],
   "source": [
    "# Previewing the columns\n",
    "print(df.columns)"
   ]
  },
  {
   "cell_type": "code",
   "execution_count": 86,
   "metadata": {},
   "outputs": [
    {
     "data": {
      "text/html": [
       "<div>\n",
       "<style scoped>\n",
       "    .dataframe tbody tr th:only-of-type {\n",
       "        vertical-align: middle;\n",
       "    }\n",
       "\n",
       "    .dataframe tbody tr th {\n",
       "        vertical-align: top;\n",
       "    }\n",
       "\n",
       "    .dataframe thead th {\n",
       "        text-align: right;\n",
       "    }\n",
       "</style>\n",
       "<table border=\"1\" class=\"dataframe\">\n",
       "  <thead>\n",
       "    <tr style=\"text-align: right;\">\n",
       "      <th></th>\n",
       "      <th>id</th>\n",
       "      <th>bedrooms</th>\n",
       "      <th>bathrooms</th>\n",
       "      <th>sqft_living</th>\n",
       "      <th>sqft_lot</th>\n",
       "      <th>floors</th>\n",
       "      <th>waterfront</th>\n",
       "      <th>view</th>\n",
       "      <th>condition</th>\n",
       "      <th>grade</th>\n",
       "      <th>...</th>\n",
       "      <th>price</th>\n",
       "      <th>mile_dist_center</th>\n",
       "      <th>age_at_sale</th>\n",
       "      <th>renovation_status</th>\n",
       "      <th>yrs_since_renovation</th>\n",
       "      <th>price_per_sqft</th>\n",
       "      <th>location_type</th>\n",
       "      <th>view_cat</th>\n",
       "      <th>condition_cat</th>\n",
       "      <th>grade_cat</th>\n",
       "    </tr>\n",
       "  </thead>\n",
       "  <tbody>\n",
       "    <tr>\n",
       "      <th>0</th>\n",
       "      <td>7129300520</td>\n",
       "      <td>3</td>\n",
       "      <td>1.00</td>\n",
       "      <td>1180</td>\n",
       "      <td>5650</td>\n",
       "      <td>1.0</td>\n",
       "      <td>NaN</td>\n",
       "      <td>0.0</td>\n",
       "      <td>3</td>\n",
       "      <td>7</td>\n",
       "      <td>...</td>\n",
       "      <td>221900</td>\n",
       "      <td>7.443664</td>\n",
       "      <td>59</td>\n",
       "      <td>unrenovated</td>\n",
       "      <td>&lt;NA&gt;</td>\n",
       "      <td>188.050847</td>\n",
       "      <td>city</td>\n",
       "      <td>No View</td>\n",
       "      <td>Average</td>\n",
       "      <td>Average</td>\n",
       "    </tr>\n",
       "    <tr>\n",
       "      <th>1</th>\n",
       "      <td>6414100192</td>\n",
       "      <td>3</td>\n",
       "      <td>2.25</td>\n",
       "      <td>2570</td>\n",
       "      <td>7242</td>\n",
       "      <td>2.0</td>\n",
       "      <td>no</td>\n",
       "      <td>0.0</td>\n",
       "      <td>3</td>\n",
       "      <td>7</td>\n",
       "      <td>...</td>\n",
       "      <td>538000</td>\n",
       "      <td>7.954648</td>\n",
       "      <td>63</td>\n",
       "      <td>renovated</td>\n",
       "      <td>23</td>\n",
       "      <td>209.338521</td>\n",
       "      <td>city</td>\n",
       "      <td>No View</td>\n",
       "      <td>Average</td>\n",
       "      <td>Average</td>\n",
       "    </tr>\n",
       "    <tr>\n",
       "      <th>2</th>\n",
       "      <td>5631500400</td>\n",
       "      <td>2</td>\n",
       "      <td>1.00</td>\n",
       "      <td>770</td>\n",
       "      <td>10000</td>\n",
       "      <td>1.0</td>\n",
       "      <td>no</td>\n",
       "      <td>0.0</td>\n",
       "      <td>3</td>\n",
       "      <td>6</td>\n",
       "      <td>...</td>\n",
       "      <td>180000</td>\n",
       "      <td>10.206394</td>\n",
       "      <td>82</td>\n",
       "      <td>unrenovated</td>\n",
       "      <td>&lt;NA&gt;</td>\n",
       "      <td>233.766234</td>\n",
       "      <td>countryside</td>\n",
       "      <td>No View</td>\n",
       "      <td>Average</td>\n",
       "      <td>Fair</td>\n",
       "    </tr>\n",
       "    <tr>\n",
       "      <th>3</th>\n",
       "      <td>2487200875</td>\n",
       "      <td>4</td>\n",
       "      <td>3.00</td>\n",
       "      <td>1960</td>\n",
       "      <td>5000</td>\n",
       "      <td>1.0</td>\n",
       "      <td>no</td>\n",
       "      <td>0.0</td>\n",
       "      <td>5</td>\n",
       "      <td>7</td>\n",
       "      <td>...</td>\n",
       "      <td>604000</td>\n",
       "      <td>6.551165</td>\n",
       "      <td>49</td>\n",
       "      <td>unrenovated</td>\n",
       "      <td>&lt;NA&gt;</td>\n",
       "      <td>308.163265</td>\n",
       "      <td>city</td>\n",
       "      <td>No View</td>\n",
       "      <td>Excellent</td>\n",
       "      <td>Average</td>\n",
       "    </tr>\n",
       "    <tr>\n",
       "      <th>4</th>\n",
       "      <td>1954400510</td>\n",
       "      <td>3</td>\n",
       "      <td>2.00</td>\n",
       "      <td>1680</td>\n",
       "      <td>8080</td>\n",
       "      <td>1.0</td>\n",
       "      <td>no</td>\n",
       "      <td>0.0</td>\n",
       "      <td>3</td>\n",
       "      <td>8</td>\n",
       "      <td>...</td>\n",
       "      <td>510000</td>\n",
       "      <td>13.432452</td>\n",
       "      <td>28</td>\n",
       "      <td>unrenovated</td>\n",
       "      <td>&lt;NA&gt;</td>\n",
       "      <td>303.571429</td>\n",
       "      <td>countryside</td>\n",
       "      <td>No View</td>\n",
       "      <td>Average</td>\n",
       "      <td>Good</td>\n",
       "    </tr>\n",
       "  </tbody>\n",
       "</table>\n",
       "<p>5 rows × 30 columns</p>\n",
       "</div>"
      ],
      "text/plain": [
       "           id  bedrooms  bathrooms  sqft_living  sqft_lot  floors waterfront  \\\n",
       "0  7129300520         3       1.00         1180      5650     1.0        NaN   \n",
       "1  6414100192         3       2.25         2570      7242     2.0         no   \n",
       "2  5631500400         2       1.00          770     10000     1.0         no   \n",
       "3  2487200875         4       3.00         1960      5000     1.0         no   \n",
       "4  1954400510         3       2.00         1680      8080     1.0         no   \n",
       "\n",
       "   view  condition  grade  ...   price mile_dist_center  age_at_sale  \\\n",
       "0   0.0          3      7  ...  221900         7.443664           59   \n",
       "1   0.0          3      7  ...  538000         7.954648           63   \n",
       "2   0.0          3      6  ...  180000        10.206394           82   \n",
       "3   0.0          5      7  ...  604000         6.551165           49   \n",
       "4   0.0          3      8  ...  510000        13.432452           28   \n",
       "\n",
       "  renovation_status  yrs_since_renovation  price_per_sqft  location_type  \\\n",
       "0       unrenovated                  <NA>      188.050847           city   \n",
       "1         renovated                    23      209.338521           city   \n",
       "2       unrenovated                  <NA>      233.766234    countryside   \n",
       "3       unrenovated                  <NA>      308.163265           city   \n",
       "4       unrenovated                  <NA>      303.571429    countryside   \n",
       "\n",
       "   view_cat  condition_cat grade_cat  \n",
       "0   No View        Average   Average  \n",
       "1   No View        Average   Average  \n",
       "2   No View        Average      Fair  \n",
       "3   No View      Excellent   Average  \n",
       "4   No View        Average      Good  \n",
       "\n",
       "[5 rows x 30 columns]"
      ]
     },
     "execution_count": 86,
     "metadata": {},
     "output_type": "execute_result"
    }
   ],
   "source": [
    "# Previewing the first few rows\n",
    "df.head()"
   ]
  },
  {
   "cell_type": "markdown",
   "metadata": {},
   "source": [
    "The DataFrame looks great and has been successfully prepared with all necessary features and modifications. It is now ready to be saved as a CSV file for further processing and analysis."
   ]
  },
  {
   "cell_type": "markdown",
   "metadata": {},
   "source": [
    "### Save the Order of Descriptive Labels in a JSON File"
   ]
  },
  {
   "cell_type": "code",
   "execution_count": 87,
   "metadata": {},
   "outputs": [],
   "source": [
    "# Condition Label Order\n",
    "json_path_view = '../data/view_order.json'\n",
    "\n",
    "with open(json_path_view, 'w') as f:\n",
    "    json.dump(view_order, f)\n",
    "\n",
    "# Condition Label Order\n",
    "json_path_condition = '../data/condition_order.json'\n",
    "\n",
    "with open(json_path_condition, 'w') as f:\n",
    "    json.dump(condition_order, f)\n",
    "\n",
    "# Grade Label Order\n",
    "json_path_grade = '../data/grade_order.json'\n",
    "\n",
    "with open(json_path_grade, 'w') as f:\n",
    "    json.dump(grade_order, f)"
   ]
  },
  {
   "cell_type": "markdown",
   "metadata": {},
   "source": [
    "### Save the Data to a CSV File\n",
    "Save the data to a CSV file for further analysis."
   ]
  },
  {
   "cell_type": "code",
   "execution_count": 88,
   "metadata": {},
   "outputs": [],
   "source": [
    "df.to_csv(\"../data/king_county_housing_data_cleaned_and_preprocessed.csv\", index=False)"
   ]
  }
 ],
 "metadata": {
  "kernelspec": {
   "display_name": ".venv",
   "language": "python",
   "name": "python3"
  },
  "language_info": {
   "codemirror_mode": {
    "name": "ipython",
    "version": 3
   },
   "file_extension": ".py",
   "mimetype": "text/x-python",
   "name": "python",
   "nbconvert_exporter": "python",
   "pygments_lexer": "ipython3",
   "version": "3.11.3"
  },
  "orig_nbformat": 4
 },
 "nbformat": 4,
 "nbformat_minor": 2
}
