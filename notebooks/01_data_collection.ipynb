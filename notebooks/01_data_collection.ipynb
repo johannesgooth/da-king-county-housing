{
 "cells": [
  {
   "cell_type": "markdown",
   "metadata": {},
   "source": [
    "# 01_data_collection.ipynb\n",
    "\n",
    "**Project:** king_county_housing_data  \n",
    "**Author:** Johannes Gooth  \n",
    "**Date:** April 12, 2024\n",
    "\n",
    "---\n",
    "\n",
    "## Introduction\n",
    "\n",
    "In this notebook, we will focus on the data collection phase of our analysis. The primary objective is to gather and compile the necessary dataset that will be used throughout the project. This involves acquiring data from a PostgreSQL database in a suitable format and performing an initial check to confirm its integrity.\n",
    "\n",
    "The dataset we will be working with is the King County Housing Data. This dataset contains detailed information about home sales in King County, USA. The data is stored on an AWS cloud server managed by NeueFische GmbH. We have explored the dataset using DBeaver and have identified the necessary join between two tables to extract the relevant information.\n",
    "\n",
    "### Key Steps:\n",
    "1. **Connecting to the Data Source:** We have explored two methods to connect to PostgreSQL databases and export the data to a CSV file: using `psycopg2` and `SQLAlchemy`.  \n",
    "   To establish this connection, we need the following information:\n",
    "   - **host:** The address of the machine where the database is hosted.\n",
    "   - **port:** The virtual gate number through which communication will be allowed.\n",
    "   - **database:** The name of the database.\n",
    "   - **user:** The username.\n",
    "   - **password:** The user's password.\n",
    "\n",
    "   Since we don't want to publish the database credentials on GitHub, we store them in a `.env` file, which is included in the `.gitignore`. This file allows us to securely store sensitive information that should not be made public. Using the `dotenv` package, we can read the `.env` file and access the variables.\n",
    "\n",
    "2. **Data Acquisition:** We will collect the data from the identified source by querying the PostgreSQL database using appropriate tools and techniques.\n",
    "\n",
    "3. **Initial Data Inspection:** Once the data is collected, we will perform a quick inspection to verify its structure and ensure it meets our requirements.\n",
    "\n",
    "4. **Storage and Organization:** The collected data will be saved in a CSV file format, making it ready for further processing and analysis in subsequent notebooks.\n",
    "\n",
    "### Expected Outcome:\n",
    "A raw dataset, organized and stored in a CSV file, ready for further analysis."
   ]
  },
  {
   "cell_type": "markdown",
   "metadata": {},
   "source": [
    "## Setting-Up the Working Enviroment"
   ]
  },
  {
   "cell_type": "code",
   "execution_count": 85,
   "metadata": {},
   "outputs": [],
   "source": [
    "import os\n",
    "from dotenv import load_dotenv\n",
    "import psycopg2\n",
    "from sqlalchemy import create_engine\n",
    "import pandas as pd"
   ]
  },
  {
   "attachments": {},
   "cell_type": "markdown",
   "metadata": {},
   "source": [
    "## Connecting and Retrieving Data via `psycopg2`"
   ]
  },
  {
   "cell_type": "markdown",
   "metadata": {},
   "source": [
    "### Load Environment Variables\n",
    "We will load our database credentials from the .env file using the dotenv package. This ensures that sensitive information, such as the database password, is not exposed in our code."
   ]
  },
  {
   "cell_type": "code",
   "execution_count": 86,
   "metadata": {},
   "outputs": [],
   "source": [
    "load_dotenv()\n",
    "\n",
    "DATABASE = os.getenv('DATABASE')\n",
    "USER_DB = os.getenv('USER_DB')\n",
    "PASSWORD = os.getenv('PASSWORD')\n",
    "HOST = os.getenv('HOST')\n",
    "PORT = os.getenv('PORT')"
   ]
  },
  {
   "cell_type": "markdown",
   "metadata": {},
   "source": [
    "### Establish the Database Connection\n",
    "Next, we will establish a connection to the PostgreSQL database using psycopg2 and create a cursor object to execute our SQL queries."
   ]
  },
  {
   "cell_type": "code",
   "execution_count": 87,
   "metadata": {},
   "outputs": [
    {
     "name": "stdout",
     "output_type": "stream",
     "text": [
      "Database connection successful.\n"
     ]
    }
   ],
   "source": [
    "try:\n",
    "    # Connect to your PostgreSQL database\n",
    "    connection = psycopg2.connect(\n",
    "    database=DATABASE,\n",
    "    user=USER_DB,\n",
    "    password=PASSWORD,\n",
    "    host=HOST,\n",
    "    port=PORT\n",
    ")\n",
    "    cursor = connection.cursor()\n",
    "    print(\"Database connection successful.\")\n",
    "\n",
    "except Exception as error:\n",
    "    print(f\"Error connecting to the database: {error}.\")"
   ]
  },
  {
   "cell_type": "markdown",
   "metadata": {},
   "source": [
    "### Execute SQL Queries and Fetch Data\n",
    "With the connection established, we can now execute our SQL queries to retrieve the necessary data. For example, we join two tables and fetch the results."
   ]
  },
  {
   "cell_type": "code",
   "execution_count": 88,
   "metadata": {},
   "outputs": [],
   "source": [
    "query = \"\"\"\n",
    "SELECT d.*, s.date, s.price\n",
    "FROM eda.king_county_house_sales AS s\n",
    "INNER JOIN eda.king_county_house_details AS d\n",
    "ON s.house_id = d.id\n",
    "\"\"\"\n",
    "\n",
    "cursor.execute(query)\n",
    "data = cursor.fetchall()"
   ]
  },
  {
   "cell_type": "markdown",
   "metadata": {},
   "source": [
    "### Convert Data to DataFrame\n",
    "Once the data is retrieved, we will convert it into a pandas DataFrame for easier manipulation and analysis."
   ]
  },
  {
   "cell_type": "code",
   "execution_count": 89,
   "metadata": {},
   "outputs": [],
   "source": [
    "columns = [desc[0] for desc in cursor.description]\n",
    "df_psycopg2 = pd.DataFrame(data, columns=columns)"
   ]
  },
  {
   "cell_type": "markdown",
   "metadata": {},
   "source": [
    "### Initial Data Inspection\n",
    "Quick inspection of the data to verify its structure and ensure it meets our requirements."
   ]
  },
  {
   "cell_type": "code",
   "execution_count": 90,
   "metadata": {},
   "outputs": [
    {
     "data": {
      "text/html": [
       "<div>\n",
       "<style scoped>\n",
       "    .dataframe tbody tr th:only-of-type {\n",
       "        vertical-align: middle;\n",
       "    }\n",
       "\n",
       "    .dataframe tbody tr th {\n",
       "        vertical-align: top;\n",
       "    }\n",
       "\n",
       "    .dataframe thead th {\n",
       "        text-align: right;\n",
       "    }\n",
       "</style>\n",
       "<table border=\"1\" class=\"dataframe\">\n",
       "  <thead>\n",
       "    <tr style=\"text-align: right;\">\n",
       "      <th></th>\n",
       "      <th>id</th>\n",
       "      <th>bedrooms</th>\n",
       "      <th>bathrooms</th>\n",
       "      <th>sqft_living</th>\n",
       "      <th>sqft_lot</th>\n",
       "      <th>floors</th>\n",
       "      <th>waterfront</th>\n",
       "      <th>view</th>\n",
       "      <th>condition</th>\n",
       "      <th>grade</th>\n",
       "      <th>...</th>\n",
       "      <th>sqft_basement</th>\n",
       "      <th>yr_built</th>\n",
       "      <th>yr_renovated</th>\n",
       "      <th>zipcode</th>\n",
       "      <th>lat</th>\n",
       "      <th>long</th>\n",
       "      <th>sqft_living15</th>\n",
       "      <th>sqft_lot15</th>\n",
       "      <th>date</th>\n",
       "      <th>price</th>\n",
       "    </tr>\n",
       "  </thead>\n",
       "  <tbody>\n",
       "    <tr>\n",
       "      <th>0</th>\n",
       "      <td>7129300520</td>\n",
       "      <td>3.0</td>\n",
       "      <td>1.00</td>\n",
       "      <td>1180.0</td>\n",
       "      <td>5650.0</td>\n",
       "      <td>1.0</td>\n",
       "      <td>NaN</td>\n",
       "      <td>0.0</td>\n",
       "      <td>3</td>\n",
       "      <td>7</td>\n",
       "      <td>...</td>\n",
       "      <td>0.0</td>\n",
       "      <td>1955</td>\n",
       "      <td>0.0</td>\n",
       "      <td>98178</td>\n",
       "      <td>47.5112</td>\n",
       "      <td>-122.257</td>\n",
       "      <td>1340.0</td>\n",
       "      <td>5650.0</td>\n",
       "      <td>2014-10-13</td>\n",
       "      <td>221900.0</td>\n",
       "    </tr>\n",
       "    <tr>\n",
       "      <th>1</th>\n",
       "      <td>6414100192</td>\n",
       "      <td>3.0</td>\n",
       "      <td>2.25</td>\n",
       "      <td>2570.0</td>\n",
       "      <td>7242.0</td>\n",
       "      <td>2.0</td>\n",
       "      <td>0.0</td>\n",
       "      <td>0.0</td>\n",
       "      <td>3</td>\n",
       "      <td>7</td>\n",
       "      <td>...</td>\n",
       "      <td>400.0</td>\n",
       "      <td>1951</td>\n",
       "      <td>19910.0</td>\n",
       "      <td>98125</td>\n",
       "      <td>47.7210</td>\n",
       "      <td>-122.319</td>\n",
       "      <td>1690.0</td>\n",
       "      <td>7639.0</td>\n",
       "      <td>2014-12-09</td>\n",
       "      <td>538000.0</td>\n",
       "    </tr>\n",
       "    <tr>\n",
       "      <th>2</th>\n",
       "      <td>5631500400</td>\n",
       "      <td>2.0</td>\n",
       "      <td>1.00</td>\n",
       "      <td>770.0</td>\n",
       "      <td>10000.0</td>\n",
       "      <td>1.0</td>\n",
       "      <td>0.0</td>\n",
       "      <td>0.0</td>\n",
       "      <td>3</td>\n",
       "      <td>6</td>\n",
       "      <td>...</td>\n",
       "      <td>0.0</td>\n",
       "      <td>1933</td>\n",
       "      <td>NaN</td>\n",
       "      <td>98028</td>\n",
       "      <td>47.7379</td>\n",
       "      <td>-122.233</td>\n",
       "      <td>2720.0</td>\n",
       "      <td>8062.0</td>\n",
       "      <td>2015-02-25</td>\n",
       "      <td>180000.0</td>\n",
       "    </tr>\n",
       "    <tr>\n",
       "      <th>3</th>\n",
       "      <td>2487200875</td>\n",
       "      <td>4.0</td>\n",
       "      <td>3.00</td>\n",
       "      <td>1960.0</td>\n",
       "      <td>5000.0</td>\n",
       "      <td>1.0</td>\n",
       "      <td>0.0</td>\n",
       "      <td>0.0</td>\n",
       "      <td>5</td>\n",
       "      <td>7</td>\n",
       "      <td>...</td>\n",
       "      <td>910.0</td>\n",
       "      <td>1965</td>\n",
       "      <td>0.0</td>\n",
       "      <td>98136</td>\n",
       "      <td>47.5208</td>\n",
       "      <td>-122.393</td>\n",
       "      <td>1360.0</td>\n",
       "      <td>5000.0</td>\n",
       "      <td>2014-12-09</td>\n",
       "      <td>604000.0</td>\n",
       "    </tr>\n",
       "    <tr>\n",
       "      <th>4</th>\n",
       "      <td>1954400510</td>\n",
       "      <td>3.0</td>\n",
       "      <td>2.00</td>\n",
       "      <td>1680.0</td>\n",
       "      <td>8080.0</td>\n",
       "      <td>1.0</td>\n",
       "      <td>0.0</td>\n",
       "      <td>0.0</td>\n",
       "      <td>3</td>\n",
       "      <td>8</td>\n",
       "      <td>...</td>\n",
       "      <td>0.0</td>\n",
       "      <td>1987</td>\n",
       "      <td>0.0</td>\n",
       "      <td>98074</td>\n",
       "      <td>47.6168</td>\n",
       "      <td>-122.045</td>\n",
       "      <td>1800.0</td>\n",
       "      <td>7503.0</td>\n",
       "      <td>2015-02-18</td>\n",
       "      <td>510000.0</td>\n",
       "    </tr>\n",
       "  </tbody>\n",
       "</table>\n",
       "<p>5 rows × 21 columns</p>\n",
       "</div>"
      ],
      "text/plain": [
       "           id  bedrooms  bathrooms  sqft_living  sqft_lot  floors  waterfront  \\\n",
       "0  7129300520       3.0       1.00       1180.0    5650.0     1.0         NaN   \n",
       "1  6414100192       3.0       2.25       2570.0    7242.0     2.0         0.0   \n",
       "2  5631500400       2.0       1.00        770.0   10000.0     1.0         0.0   \n",
       "3  2487200875       4.0       3.00       1960.0    5000.0     1.0         0.0   \n",
       "4  1954400510       3.0       2.00       1680.0    8080.0     1.0         0.0   \n",
       "\n",
       "   view  condition  grade  ...  sqft_basement  yr_built  yr_renovated  \\\n",
       "0   0.0          3      7  ...            0.0      1955           0.0   \n",
       "1   0.0          3      7  ...          400.0      1951       19910.0   \n",
       "2   0.0          3      6  ...            0.0      1933           NaN   \n",
       "3   0.0          5      7  ...          910.0      1965           0.0   \n",
       "4   0.0          3      8  ...            0.0      1987           0.0   \n",
       "\n",
       "   zipcode      lat     long  sqft_living15  sqft_lot15        date     price  \n",
       "0    98178  47.5112 -122.257         1340.0      5650.0  2014-10-13  221900.0  \n",
       "1    98125  47.7210 -122.319         1690.0      7639.0  2014-12-09  538000.0  \n",
       "2    98028  47.7379 -122.233         2720.0      8062.0  2015-02-25  180000.0  \n",
       "3    98136  47.5208 -122.393         1360.0      5000.0  2014-12-09  604000.0  \n",
       "4    98074  47.6168 -122.045         1800.0      7503.0  2015-02-18  510000.0  \n",
       "\n",
       "[5 rows x 21 columns]"
      ]
     },
     "execution_count": 90,
     "metadata": {},
     "output_type": "execute_result"
    }
   ],
   "source": [
    "df_psycopg2.head()"
   ]
  },
  {
   "cell_type": "markdown",
   "metadata": {},
   "source": [
    "The data has the desired structure and meets our requirements."
   ]
  },
  {
   "cell_type": "markdown",
   "metadata": {},
   "source": [
    "### Close the Connection\n",
    "After the data is retrieved and saved, close the cursor and connection to the database."
   ]
  },
  {
   "cell_type": "code",
   "execution_count": 91,
   "metadata": {},
   "outputs": [
    {
     "name": "stdout",
     "output_type": "stream",
     "text": [
      "Database connection closed.\n"
     ]
    }
   ],
   "source": [
    "cursor.close()\n",
    "connection.close()\n",
    "print(\"Database connection closed.\")"
   ]
  },
  {
   "attachments": {},
   "cell_type": "markdown",
   "metadata": {},
   "source": [
    "## Connecting and Retrieving Data via `SQLAlchemy`\n",
    "\n",
    "In this section, we will use `SQLAlchemy` to connect to our PostgreSQL database and retrieve the necessary data. SQLAlchemy provides a high-level ORM (Object Relational Mapper) that simplifies database interactions. Here’s how we can do it:"
   ]
  },
  {
   "cell_type": "markdown",
   "metadata": {},
   "source": [
    "### Load Environment Variables\n",
    "Similar to how we handled it with `psycopg2`, we will load our database credentials from the .env file using the dotenv package."
   ]
  },
  {
   "cell_type": "code",
   "execution_count": 92,
   "metadata": {},
   "outputs": [],
   "source": [
    "load_dotenv()\n",
    "\n",
    "DATABASE = os.getenv('DATABASE')\n",
    "USER_DB = os.getenv('USER_DB')\n",
    "PASSWORD = os.getenv('PASSWORD')\n",
    "HOST = os.getenv('HOST')\n",
    "PORT = os.getenv('PORT')\n"
   ]
  },
  {
   "cell_type": "markdown",
   "metadata": {},
   "source": [
    "### Create a Database Engine\n",
    "With `SQLAlchemy`, we create an engine using a database connection string. This string encapsulates all the information needed to connect to the database."
   ]
  },
  {
   "cell_type": "code",
   "execution_count": 93,
   "metadata": {},
   "outputs": [],
   "source": [
    "# Create the database connection string\n",
    "db_string = f\"postgresql://{USER_DB}:{PASSWORD}@{HOST}:{PORT}/{DATABASE}\"\n",
    "\n",
    "# Create the SQLAlchemy engine\n",
    "engine = create_engine(db_string)"
   ]
  },
  {
   "cell_type": "markdown",
   "metadata": {},
   "source": [
    "### Connect to the Database and Execute SQL Queries\n",
    "With the engine created, we can now connect to the database, execute SQL queries, and import the data into a pandas dataframe."
   ]
  },
  {
   "cell_type": "code",
   "execution_count": 94,
   "metadata": {},
   "outputs": [],
   "source": [
    "query = \"\"\"\n",
    "SELECT d.*, s.date, s.price\n",
    "FROM eda.king_county_house_sales AS s\n",
    "INNER JOIN eda.king_county_house_details AS d\n",
    "ON s.house_id = d.id\n",
    "\"\"\"\n",
    "\n",
    "df_sqlalchemy = pd.read_sql(query, engine)\n"
   ]
  },
  {
   "cell_type": "markdown",
   "metadata": {},
   "source": [
    "### Initial Data Inspection\n",
    "Quick inspection of the data to verify its structure and ensure it meets our requirements."
   ]
  },
  {
   "cell_type": "code",
   "execution_count": 95,
   "metadata": {},
   "outputs": [
    {
     "data": {
      "text/html": [
       "<div>\n",
       "<style scoped>\n",
       "    .dataframe tbody tr th:only-of-type {\n",
       "        vertical-align: middle;\n",
       "    }\n",
       "\n",
       "    .dataframe tbody tr th {\n",
       "        vertical-align: top;\n",
       "    }\n",
       "\n",
       "    .dataframe thead th {\n",
       "        text-align: right;\n",
       "    }\n",
       "</style>\n",
       "<table border=\"1\" class=\"dataframe\">\n",
       "  <thead>\n",
       "    <tr style=\"text-align: right;\">\n",
       "      <th></th>\n",
       "      <th>id</th>\n",
       "      <th>bedrooms</th>\n",
       "      <th>bathrooms</th>\n",
       "      <th>sqft_living</th>\n",
       "      <th>sqft_lot</th>\n",
       "      <th>floors</th>\n",
       "      <th>waterfront</th>\n",
       "      <th>view</th>\n",
       "      <th>condition</th>\n",
       "      <th>grade</th>\n",
       "      <th>...</th>\n",
       "      <th>sqft_basement</th>\n",
       "      <th>yr_built</th>\n",
       "      <th>yr_renovated</th>\n",
       "      <th>zipcode</th>\n",
       "      <th>lat</th>\n",
       "      <th>long</th>\n",
       "      <th>sqft_living15</th>\n",
       "      <th>sqft_lot15</th>\n",
       "      <th>date</th>\n",
       "      <th>price</th>\n",
       "    </tr>\n",
       "  </thead>\n",
       "  <tbody>\n",
       "    <tr>\n",
       "      <th>0</th>\n",
       "      <td>7129300520</td>\n",
       "      <td>3.0</td>\n",
       "      <td>1.00</td>\n",
       "      <td>1180.0</td>\n",
       "      <td>5650.0</td>\n",
       "      <td>1.0</td>\n",
       "      <td>NaN</td>\n",
       "      <td>0.0</td>\n",
       "      <td>3</td>\n",
       "      <td>7</td>\n",
       "      <td>...</td>\n",
       "      <td>0.0</td>\n",
       "      <td>1955</td>\n",
       "      <td>0.0</td>\n",
       "      <td>98178</td>\n",
       "      <td>47.5112</td>\n",
       "      <td>-122.257</td>\n",
       "      <td>1340.0</td>\n",
       "      <td>5650.0</td>\n",
       "      <td>2014-10-13</td>\n",
       "      <td>221900.0</td>\n",
       "    </tr>\n",
       "    <tr>\n",
       "      <th>1</th>\n",
       "      <td>6414100192</td>\n",
       "      <td>3.0</td>\n",
       "      <td>2.25</td>\n",
       "      <td>2570.0</td>\n",
       "      <td>7242.0</td>\n",
       "      <td>2.0</td>\n",
       "      <td>0.0</td>\n",
       "      <td>0.0</td>\n",
       "      <td>3</td>\n",
       "      <td>7</td>\n",
       "      <td>...</td>\n",
       "      <td>400.0</td>\n",
       "      <td>1951</td>\n",
       "      <td>19910.0</td>\n",
       "      <td>98125</td>\n",
       "      <td>47.7210</td>\n",
       "      <td>-122.319</td>\n",
       "      <td>1690.0</td>\n",
       "      <td>7639.0</td>\n",
       "      <td>2014-12-09</td>\n",
       "      <td>538000.0</td>\n",
       "    </tr>\n",
       "    <tr>\n",
       "      <th>2</th>\n",
       "      <td>5631500400</td>\n",
       "      <td>2.0</td>\n",
       "      <td>1.00</td>\n",
       "      <td>770.0</td>\n",
       "      <td>10000.0</td>\n",
       "      <td>1.0</td>\n",
       "      <td>0.0</td>\n",
       "      <td>0.0</td>\n",
       "      <td>3</td>\n",
       "      <td>6</td>\n",
       "      <td>...</td>\n",
       "      <td>0.0</td>\n",
       "      <td>1933</td>\n",
       "      <td>NaN</td>\n",
       "      <td>98028</td>\n",
       "      <td>47.7379</td>\n",
       "      <td>-122.233</td>\n",
       "      <td>2720.0</td>\n",
       "      <td>8062.0</td>\n",
       "      <td>2015-02-25</td>\n",
       "      <td>180000.0</td>\n",
       "    </tr>\n",
       "    <tr>\n",
       "      <th>3</th>\n",
       "      <td>2487200875</td>\n",
       "      <td>4.0</td>\n",
       "      <td>3.00</td>\n",
       "      <td>1960.0</td>\n",
       "      <td>5000.0</td>\n",
       "      <td>1.0</td>\n",
       "      <td>0.0</td>\n",
       "      <td>0.0</td>\n",
       "      <td>5</td>\n",
       "      <td>7</td>\n",
       "      <td>...</td>\n",
       "      <td>910.0</td>\n",
       "      <td>1965</td>\n",
       "      <td>0.0</td>\n",
       "      <td>98136</td>\n",
       "      <td>47.5208</td>\n",
       "      <td>-122.393</td>\n",
       "      <td>1360.0</td>\n",
       "      <td>5000.0</td>\n",
       "      <td>2014-12-09</td>\n",
       "      <td>604000.0</td>\n",
       "    </tr>\n",
       "    <tr>\n",
       "      <th>4</th>\n",
       "      <td>1954400510</td>\n",
       "      <td>3.0</td>\n",
       "      <td>2.00</td>\n",
       "      <td>1680.0</td>\n",
       "      <td>8080.0</td>\n",
       "      <td>1.0</td>\n",
       "      <td>0.0</td>\n",
       "      <td>0.0</td>\n",
       "      <td>3</td>\n",
       "      <td>8</td>\n",
       "      <td>...</td>\n",
       "      <td>0.0</td>\n",
       "      <td>1987</td>\n",
       "      <td>0.0</td>\n",
       "      <td>98074</td>\n",
       "      <td>47.6168</td>\n",
       "      <td>-122.045</td>\n",
       "      <td>1800.0</td>\n",
       "      <td>7503.0</td>\n",
       "      <td>2015-02-18</td>\n",
       "      <td>510000.0</td>\n",
       "    </tr>\n",
       "  </tbody>\n",
       "</table>\n",
       "<p>5 rows × 21 columns</p>\n",
       "</div>"
      ],
      "text/plain": [
       "           id  bedrooms  bathrooms  sqft_living  sqft_lot  floors  waterfront  \\\n",
       "0  7129300520       3.0       1.00       1180.0    5650.0     1.0         NaN   \n",
       "1  6414100192       3.0       2.25       2570.0    7242.0     2.0         0.0   \n",
       "2  5631500400       2.0       1.00        770.0   10000.0     1.0         0.0   \n",
       "3  2487200875       4.0       3.00       1960.0    5000.0     1.0         0.0   \n",
       "4  1954400510       3.0       2.00       1680.0    8080.0     1.0         0.0   \n",
       "\n",
       "   view  condition  grade  ...  sqft_basement  yr_built  yr_renovated  \\\n",
       "0   0.0          3      7  ...            0.0      1955           0.0   \n",
       "1   0.0          3      7  ...          400.0      1951       19910.0   \n",
       "2   0.0          3      6  ...            0.0      1933           NaN   \n",
       "3   0.0          5      7  ...          910.0      1965           0.0   \n",
       "4   0.0          3      8  ...            0.0      1987           0.0   \n",
       "\n",
       "   zipcode      lat     long  sqft_living15  sqft_lot15        date     price  \n",
       "0    98178  47.5112 -122.257         1340.0      5650.0  2014-10-13  221900.0  \n",
       "1    98125  47.7210 -122.319         1690.0      7639.0  2014-12-09  538000.0  \n",
       "2    98028  47.7379 -122.233         2720.0      8062.0  2015-02-25  180000.0  \n",
       "3    98136  47.5208 -122.393         1360.0      5000.0  2014-12-09  604000.0  \n",
       "4    98074  47.6168 -122.045         1800.0      7503.0  2015-02-18  510000.0  \n",
       "\n",
       "[5 rows x 21 columns]"
      ]
     },
     "execution_count": 95,
     "metadata": {},
     "output_type": "execute_result"
    }
   ],
   "source": [
    "df_sqlalchemy.head()"
   ]
  },
  {
   "cell_type": "markdown",
   "metadata": {},
   "source": [
    "The data has the desired structure and meets our requirements."
   ]
  },
  {
   "cell_type": "markdown",
   "metadata": {},
   "source": [
    "### Close the Engine Connection\n",
    "`SQLAlchemy` engines don’t require explicit closing like `psycopg2` connections, but it’s a good practice to ensure that all connections are properly managed. Therefore, we explicitly close the engine:"
   ]
  },
  {
   "cell_type": "code",
   "execution_count": 96,
   "metadata": {},
   "outputs": [],
   "source": [
    "engine.dispose()"
   ]
  },
  {
   "cell_type": "markdown",
   "metadata": {},
   "source": [
    "## Closing"
   ]
  },
  {
   "cell_type": "markdown",
   "metadata": {},
   "source": [
    "### Verify DataFrame Equality\n",
    "To ensure the consistency of data retrieved using both `psycopg2` and `SQLAlchemy`, we will compare the two DataFrames (df_psycopg2 and df_sqlalchemy). This comparison will check if the DataFrames are identical in terms of shape and data content."
   ]
  },
  {
   "cell_type": "code",
   "execution_count": 97,
   "metadata": {},
   "outputs": [
    {
     "name": "stdout",
     "output_type": "stream",
     "text": [
      "The DataFrames are identical.\n"
     ]
    }
   ],
   "source": [
    "# Check if the DataFrames have the same shape\n",
    "if df_psycopg2.shape != df_sqlalchemy.shape:\n",
    "    print(\"The DataFrames have different shapes, so they are not the same.\")\n",
    "else:\n",
    "    # Check if all the elements in the DataFrames are the same\n",
    "    if df_psycopg2.equals(df_sqlalchemy):\n",
    "        print(\"The DataFrames are identical.\")\n",
    "    else:\n",
    "        print(\"The DataFrames are not identical. There are differences in the data.\")\n"
   ]
  },
  {
   "cell_type": "markdown",
   "metadata": {},
   "source": [
    "Great! The comparison shows that the data retrieved via psycopg2 and SQLAlchemy is identical. This confirms the consistency of our data extraction methods. We can now confidently move on to the next steps: data cleaning and preprocessing."
   ]
  },
  {
   "cell_type": "markdown",
   "metadata": {},
   "source": [
    "### Save the Data to a CSV File\n",
    "The data is retrieved and verified. Now, it is saveed to a CSV file for further analysis."
   ]
  },
  {
   "cell_type": "code",
   "execution_count": 98,
   "metadata": {},
   "outputs": [],
   "source": [
    "df_sqlalchemy.to_csv(\"../data/king_county_housing_data.csv\", index=False)"
   ]
  }
 ],
 "metadata": {
  "kernelspec": {
   "display_name": "Python 3.9.12 ('.venv': venv)",
   "language": "python",
   "name": "python3"
  },
  "language_info": {
   "codemirror_mode": {
    "name": "ipython",
    "version": 3
   },
   "file_extension": ".py",
   "mimetype": "text/x-python",
   "name": "python",
   "nbconvert_exporter": "python",
   "pygments_lexer": "ipython3",
   "version": "3.11.3"
  },
  "vscode": {
   "interpreter": {
    "hash": "86bfcc733a99316639cfae738bd2c12342c3c5e2c4e3f470908e9f9639795c12"
   }
  }
 },
 "nbformat": 4,
 "nbformat_minor": 4
}
